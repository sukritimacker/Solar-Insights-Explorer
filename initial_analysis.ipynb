{
 "cells": [
  {
   "cell_type": "markdown",
   "metadata": {},
   "source": [
    "## IMPORTING THE REQUIRED LIBRARIES"
   ]
  },
  {
   "cell_type": "code",
   "execution_count": 2,
   "metadata": {},
   "outputs": [],
   "source": [
    "# For Data Manipulation\n",
    "import json\n",
    "import pandas as pd\n",
    "import numpy as np\n",
    "\n",
    "# For Balancing the imbalanced data\n",
    "from imblearn.combine import SMOTETomek\n",
    "\n",
    "# For Data Visualization\n",
    "import matplotlib.pyplot as plt\n",
    "import seaborn as sns\n",
    "import geopandas as gpd\n",
    "\n",
    "# For prediction\n",
    "from sklearn.feature_selection import SelectKBest\n",
    "from sklearn.feature_selection import chi2\n",
    "from sklearn.preprocessing import LabelEncoder\n",
    "from sklearn.metrics import confusion_matrix, roc_auc_score\n",
    "from sklearn.model_selection import cross_val_score, train_test_split\n",
    "from sklearn.metrics import classification_report\n",
    "from sklearn.linear_model import LogisticRegressionCV\n",
    "from sklearn.ensemble import RandomForestClassifier\n",
    "\n",
    "from xgboost import XGBClassifier"
   ]
  },
  {
   "cell_type": "markdown",
   "metadata": {},
   "source": [
    "## IMPORTING THE DATA FILE"
   ]
  },
  {
   "cell_type": "code",
   "execution_count": 3,
   "metadata": {},
   "outputs": [],
   "source": [
    "data=pd.read_excel(\"customer_data.xlsx\")"
   ]
  },
  {
   "cell_type": "code",
   "execution_count": 13,
   "metadata": {
    "scrolled": false
   },
   "outputs": [
    {
     "data": {
      "text/html": [
       "<div>\n",
       "<style scoped>\n",
       "    .dataframe tbody tr th:only-of-type {\n",
       "        vertical-align: middle;\n",
       "    }\n",
       "\n",
       "    .dataframe tbody tr th {\n",
       "        vertical-align: top;\n",
       "    }\n",
       "\n",
       "    .dataframe thead th {\n",
       "        text-align: right;\n",
       "    }\n",
       "</style>\n",
       "<table border=\"1\" class=\"dataframe\">\n",
       "  <thead>\n",
       "    <tr style=\"text-align: right;\">\n",
       "      <th></th>\n",
       "      <th>Full name</th>\n",
       "      <th>Age</th>\n",
       "      <th>Marital Status</th>\n",
       "      <th>Gender</th>\n",
       "      <th>Which type of organization do you work for?</th>\n",
       "      <th>Name of Profession</th>\n",
       "      <th>What is the type of home that you own?</th>\n",
       "      <th>Number of Floors in House</th>\n",
       "      <th>How many people live in your household(including children)?</th>\n",
       "      <th>No of Rooms in your house</th>\n",
       "      <th>...</th>\n",
       "      <th>Which one would you prefer?</th>\n",
       "      <th>Which one would you prefer ?</th>\n",
       "      <th>Do you have any relative/friend that bought a solar system?</th>\n",
       "      <th>Do you know any Solar Panel installation companies ?</th>\n",
       "      <th>Name the Solar company you know</th>\n",
       "      <th>Who owns the house you live in?</th>\n",
       "      <th>Which city is your house at?</th>\n",
       "      <th>Are you filling this form on behalf of your parents/others?</th>\n",
       "      <th>What are your computer brands?</th>\n",
       "      <th>State Name</th>\n",
       "    </tr>\n",
       "  </thead>\n",
       "  <tbody>\n",
       "    <tr>\n",
       "      <th>0</th>\n",
       "      <td>sweta singh</td>\n",
       "      <td>15-25</td>\n",
       "      <td>Single</td>\n",
       "      <td>Female</td>\n",
       "      <td>Private</td>\n",
       "      <td>hr</td>\n",
       "      <td>Flat(On Rent)</td>\n",
       "      <td>4+</td>\n",
       "      <td>NaN</td>\n",
       "      <td>3</td>\n",
       "      <td>...</td>\n",
       "      <td>Saving 1000+/month saving on electricity bill ...</td>\n",
       "      <td>4-star rated appliance</td>\n",
       "      <td>NaN</td>\n",
       "      <td>No</td>\n",
       "      <td>peacock solar</td>\n",
       "      <td>NaN</td>\n",
       "      <td>NaN</td>\n",
       "      <td>NaN</td>\n",
       "      <td>NaN</td>\n",
       "      <td>NaN</td>\n",
       "    </tr>\n",
       "    <tr>\n",
       "      <th>1</th>\n",
       "      <td>Ajay Babu</td>\n",
       "      <td>15-25</td>\n",
       "      <td>Single</td>\n",
       "      <td>Male</td>\n",
       "      <td>Private</td>\n",
       "      <td>Logistics</td>\n",
       "      <td>Independent house or Villa</td>\n",
       "      <td>Ground Floor</td>\n",
       "      <td>5.0</td>\n",
       "      <td>4</td>\n",
       "      <td>...</td>\n",
       "      <td>Avail solar electricity at 50% down payment an...</td>\n",
       "      <td>4-star rated appliance</td>\n",
       "      <td>No</td>\n",
       "      <td>Yes</td>\n",
       "      <td>Roofsol</td>\n",
       "      <td>NaN</td>\n",
       "      <td>NaN</td>\n",
       "      <td>NaN</td>\n",
       "      <td>NaN</td>\n",
       "      <td>NaN</td>\n",
       "    </tr>\n",
       "    <tr>\n",
       "      <th>2</th>\n",
       "      <td>Ajumal Khan A</td>\n",
       "      <td>15-25</td>\n",
       "      <td>Single</td>\n",
       "      <td>Male</td>\n",
       "      <td>Business</td>\n",
       "      <td>Self Employed</td>\n",
       "      <td>Independent house or Villa</td>\n",
       "      <td>2 Floors</td>\n",
       "      <td>5.0</td>\n",
       "      <td>4</td>\n",
       "      <td>...</td>\n",
       "      <td>Avail solar electricity at 50% down payment an...</td>\n",
       "      <td>5-star rated appliance (with Extra services an...</td>\n",
       "      <td>NaN</td>\n",
       "      <td>No</td>\n",
       "      <td>Enerparc</td>\n",
       "      <td>NaN</td>\n",
       "      <td>NaN</td>\n",
       "      <td>NaN</td>\n",
       "      <td>NaN</td>\n",
       "      <td>NaN</td>\n",
       "    </tr>\n",
       "    <tr>\n",
       "      <th>3</th>\n",
       "      <td>Navya Venugopal</td>\n",
       "      <td>15-25</td>\n",
       "      <td>Single</td>\n",
       "      <td>Female</td>\n",
       "      <td>NGO</td>\n",
       "      <td>social worker</td>\n",
       "      <td>Flat(On Rent)</td>\n",
       "      <td>3 Floors</td>\n",
       "      <td>3.0</td>\n",
       "      <td>1</td>\n",
       "      <td>...</td>\n",
       "      <td>Saving 1000+/month saving on electricity bill ...</td>\n",
       "      <td>4-star rated appliance</td>\n",
       "      <td>No</td>\n",
       "      <td>No</td>\n",
       "      <td>NaN</td>\n",
       "      <td>NaN</td>\n",
       "      <td>NaN</td>\n",
       "      <td>NaN</td>\n",
       "      <td>NaN</td>\n",
       "      <td>NaN</td>\n",
       "    </tr>\n",
       "  </tbody>\n",
       "</table>\n",
       "<p>4 rows × 63 columns</p>\n",
       "</div>"
      ],
      "text/plain": [
       "         Full name   Age  Marital Status  Gender  \\\n",
       "0      sweta singh  15-25         Single  Female   \n",
       "1        Ajay Babu  15-25         Single    Male   \n",
       "2    Ajumal Khan A  15-25         Single    Male   \n",
       "3  Navya Venugopal  15-25         Single  Female   \n",
       "\n",
       "  Which type of organization do you work for? Name of Profession  \\\n",
       "0                                     Private                 hr   \n",
       "1                                     Private          Logistics   \n",
       "2                                    Business      Self Employed   \n",
       "3                                         NGO      social worker   \n",
       "\n",
       "  What is the type of home that you own? Number of Floors in House  \\\n",
       "0                          Flat(On Rent)                        4+   \n",
       "1             Independent house or Villa              Ground Floor   \n",
       "2             Independent house or Villa                  2 Floors   \n",
       "3                          Flat(On Rent)                  3 Floors   \n",
       "\n",
       "   How many people live in your household(including children)?  \\\n",
       "0                                                NaN             \n",
       "1                                                5.0             \n",
       "2                                                5.0             \n",
       "3                                                3.0             \n",
       "\n",
       "  No of Rooms in your house   ...  \\\n",
       "0                          3  ...   \n",
       "1                          4  ...   \n",
       "2                          4  ...   \n",
       "3                          1  ...   \n",
       "\n",
       "                         Which one would you prefer?  \\\n",
       "0  Saving 1000+/month saving on electricity bill ...   \n",
       "1  Avail solar electricity at 50% down payment an...   \n",
       "2  Avail solar electricity at 50% down payment an...   \n",
       "3  Saving 1000+/month saving on electricity bill ...   \n",
       "\n",
       "                        Which one would you prefer ?  \\\n",
       "0                             4-star rated appliance   \n",
       "1                             4-star rated appliance   \n",
       "2  5-star rated appliance (with Extra services an...   \n",
       "3                             4-star rated appliance   \n",
       "\n",
       "  Do you have any relative/friend that bought a solar system?  \\\n",
       "0                                                NaN            \n",
       "1                                                 No            \n",
       "2                                                NaN            \n",
       "3                                                 No            \n",
       "\n",
       "  Do you know any Solar Panel installation companies ?  \\\n",
       "0                                                 No     \n",
       "1                                                Yes     \n",
       "2                                                 No     \n",
       "3                                                 No     \n",
       "\n",
       "  Name the Solar company you know Who owns the house you live in?  \\\n",
       "0                   peacock solar                             NaN   \n",
       "1                         Roofsol                             NaN   \n",
       "2                        Enerparc                             NaN   \n",
       "3                             NaN                             NaN   \n",
       "\n",
       "  Which city is your house at?  \\\n",
       "0                          NaN   \n",
       "1                          NaN   \n",
       "2                          NaN   \n",
       "3                          NaN   \n",
       "\n",
       "  Are you filling this form on behalf of your parents/others?  \\\n",
       "0                                                NaN            \n",
       "1                                                NaN            \n",
       "2                                                NaN            \n",
       "3                                                NaN            \n",
       "\n",
       "  What are your computer brands?   State Name  \n",
       "0                             NaN         NaN  \n",
       "1                             NaN         NaN  \n",
       "2                             NaN         NaN  \n",
       "3                             NaN         NaN  \n",
       "\n",
       "[4 rows x 63 columns]"
      ]
     },
     "execution_count": 13,
     "metadata": {},
     "output_type": "execute_result"
    }
   ],
   "source": [
    "# Understanding the content and the data provided\n",
    "\n",
    "data.head(4)"
   ]
  },
  {
   "cell_type": "code",
   "execution_count": 14,
   "metadata": {},
   "outputs": [],
   "source": [
    "unnamed_cols = [x for x in data.columns if 'Unnamed' in x]\n",
    "data = data.drop(unnamed_cols, axis=1)"
   ]
  },
  {
   "cell_type": "code",
   "execution_count": 15,
   "metadata": {},
   "outputs": [
    {
     "data": {
      "text/html": [
       "<div>\n",
       "<style scoped>\n",
       "    .dataframe tbody tr th:only-of-type {\n",
       "        vertical-align: middle;\n",
       "    }\n",
       "\n",
       "    .dataframe tbody tr th {\n",
       "        vertical-align: top;\n",
       "    }\n",
       "\n",
       "    .dataframe thead th {\n",
       "        text-align: right;\n",
       "    }\n",
       "</style>\n",
       "<table border=\"1\" class=\"dataframe\">\n",
       "  <thead>\n",
       "    <tr style=\"text-align: right;\">\n",
       "      <th></th>\n",
       "      <th>Full name</th>\n",
       "      <th>Age</th>\n",
       "      <th>Marital Status</th>\n",
       "      <th>Gender</th>\n",
       "      <th>Which type of organization do you work for?</th>\n",
       "      <th>Name of Profession</th>\n",
       "      <th>What is the type of home that you own?</th>\n",
       "      <th>Number of Floors in House</th>\n",
       "      <th>How many people live in your household(including children)?</th>\n",
       "      <th>No of Rooms in your house</th>\n",
       "      <th>...</th>\n",
       "      <th>Which one would you prefer?</th>\n",
       "      <th>Which one would you prefer ?</th>\n",
       "      <th>Do you have any relative/friend that bought a solar system?</th>\n",
       "      <th>Do you know any Solar Panel installation companies ?</th>\n",
       "      <th>Name the Solar company you know</th>\n",
       "      <th>Who owns the house you live in?</th>\n",
       "      <th>Which city is your house at?</th>\n",
       "      <th>Are you filling this form on behalf of your parents/others?</th>\n",
       "      <th>What are your computer brands?</th>\n",
       "      <th>State Name</th>\n",
       "    </tr>\n",
       "  </thead>\n",
       "  <tbody>\n",
       "    <tr>\n",
       "      <th>0</th>\n",
       "      <td>sweta singh</td>\n",
       "      <td>15-25</td>\n",
       "      <td>Single</td>\n",
       "      <td>Female</td>\n",
       "      <td>Private</td>\n",
       "      <td>hr</td>\n",
       "      <td>Flat(On Rent)</td>\n",
       "      <td>4+</td>\n",
       "      <td>NaN</td>\n",
       "      <td>3</td>\n",
       "      <td>...</td>\n",
       "      <td>Saving 1000+/month saving on electricity bill ...</td>\n",
       "      <td>4-star rated appliance</td>\n",
       "      <td>NaN</td>\n",
       "      <td>No</td>\n",
       "      <td>peacock solar</td>\n",
       "      <td>NaN</td>\n",
       "      <td>NaN</td>\n",
       "      <td>NaN</td>\n",
       "      <td>NaN</td>\n",
       "      <td>NaN</td>\n",
       "    </tr>\n",
       "    <tr>\n",
       "      <th>1</th>\n",
       "      <td>Ajay Babu</td>\n",
       "      <td>15-25</td>\n",
       "      <td>Single</td>\n",
       "      <td>Male</td>\n",
       "      <td>Private</td>\n",
       "      <td>Logistics</td>\n",
       "      <td>Independent house or Villa</td>\n",
       "      <td>Ground Floor</td>\n",
       "      <td>5.0</td>\n",
       "      <td>4</td>\n",
       "      <td>...</td>\n",
       "      <td>Avail solar electricity at 50% down payment an...</td>\n",
       "      <td>4-star rated appliance</td>\n",
       "      <td>No</td>\n",
       "      <td>Yes</td>\n",
       "      <td>Roofsol</td>\n",
       "      <td>NaN</td>\n",
       "      <td>NaN</td>\n",
       "      <td>NaN</td>\n",
       "      <td>NaN</td>\n",
       "      <td>NaN</td>\n",
       "    </tr>\n",
       "    <tr>\n",
       "      <th>2</th>\n",
       "      <td>Ajumal Khan A</td>\n",
       "      <td>15-25</td>\n",
       "      <td>Single</td>\n",
       "      <td>Male</td>\n",
       "      <td>Business</td>\n",
       "      <td>Self Employed</td>\n",
       "      <td>Independent house or Villa</td>\n",
       "      <td>2 Floors</td>\n",
       "      <td>5.0</td>\n",
       "      <td>4</td>\n",
       "      <td>...</td>\n",
       "      <td>Avail solar electricity at 50% down payment an...</td>\n",
       "      <td>5-star rated appliance (with Extra services an...</td>\n",
       "      <td>NaN</td>\n",
       "      <td>No</td>\n",
       "      <td>Enerparc</td>\n",
       "      <td>NaN</td>\n",
       "      <td>NaN</td>\n",
       "      <td>NaN</td>\n",
       "      <td>NaN</td>\n",
       "      <td>NaN</td>\n",
       "    </tr>\n",
       "  </tbody>\n",
       "</table>\n",
       "<p>3 rows × 63 columns</p>\n",
       "</div>"
      ],
      "text/plain": [
       "       Full name   Age  Marital Status  Gender  \\\n",
       "0    sweta singh  15-25         Single  Female   \n",
       "1      Ajay Babu  15-25         Single    Male   \n",
       "2  Ajumal Khan A  15-25         Single    Male   \n",
       "\n",
       "  Which type of organization do you work for? Name of Profession  \\\n",
       "0                                     Private                 hr   \n",
       "1                                     Private          Logistics   \n",
       "2                                    Business      Self Employed   \n",
       "\n",
       "  What is the type of home that you own? Number of Floors in House  \\\n",
       "0                          Flat(On Rent)                        4+   \n",
       "1             Independent house or Villa              Ground Floor   \n",
       "2             Independent house or Villa                  2 Floors   \n",
       "\n",
       "   How many people live in your household(including children)?  \\\n",
       "0                                                NaN             \n",
       "1                                                5.0             \n",
       "2                                                5.0             \n",
       "\n",
       "  No of Rooms in your house   ...  \\\n",
       "0                          3  ...   \n",
       "1                          4  ...   \n",
       "2                          4  ...   \n",
       "\n",
       "                         Which one would you prefer?  \\\n",
       "0  Saving 1000+/month saving on electricity bill ...   \n",
       "1  Avail solar electricity at 50% down payment an...   \n",
       "2  Avail solar electricity at 50% down payment an...   \n",
       "\n",
       "                        Which one would you prefer ?  \\\n",
       "0                             4-star rated appliance   \n",
       "1                             4-star rated appliance   \n",
       "2  5-star rated appliance (with Extra services an...   \n",
       "\n",
       "  Do you have any relative/friend that bought a solar system?  \\\n",
       "0                                                NaN            \n",
       "1                                                 No            \n",
       "2                                                NaN            \n",
       "\n",
       "  Do you know any Solar Panel installation companies ?  \\\n",
       "0                                                 No     \n",
       "1                                                Yes     \n",
       "2                                                 No     \n",
       "\n",
       "  Name the Solar company you know Who owns the house you live in?  \\\n",
       "0                   peacock solar                             NaN   \n",
       "1                         Roofsol                             NaN   \n",
       "2                        Enerparc                             NaN   \n",
       "\n",
       "  Which city is your house at?  \\\n",
       "0                          NaN   \n",
       "1                          NaN   \n",
       "2                          NaN   \n",
       "\n",
       "  Are you filling this form on behalf of your parents/others?  \\\n",
       "0                                                NaN            \n",
       "1                                                NaN            \n",
       "2                                                NaN            \n",
       "\n",
       "  What are your computer brands?   State Name  \n",
       "0                             NaN         NaN  \n",
       "1                             NaN         NaN  \n",
       "2                             NaN         NaN  \n",
       "\n",
       "[3 rows x 63 columns]"
      ]
     },
     "execution_count": 15,
     "metadata": {},
     "output_type": "execute_result"
    }
   ],
   "source": [
    "data.head(3)"
   ]
  },
  {
   "cell_type": "code",
   "execution_count": 16,
   "metadata": {},
   "outputs": [
    {
     "data": {
      "text/plain": [
       "['Full name',\n",
       " 'Age',\n",
       " 'Marital Status',\n",
       " 'Gender',\n",
       " 'Which type of organization do you work for?',\n",
       " 'Name of Profession',\n",
       " 'What is the type of home that you own?',\n",
       " 'Number of Floors in House',\n",
       " 'How many people live in your household(including children)?',\n",
       " 'No of Rooms in your house',\n",
       " 'Do you plan to build an additional floor? (If other, what does it depend on?)',\n",
       " 'What percentage of your roof are you ready to give for solar?',\n",
       " 'Plot size of the house (In Square yards)',\n",
       " 'Do you have a home loan?',\n",
       " 'How many of the below vehicles do you own? [2-Wheelers]',\n",
       " 'How many of the below vehicles do you own? [4-Wheelers]',\n",
       " 'Which payment method do you use the most?',\n",
       " 'Do you currently have an EMI for any home appliance?',\n",
       " \"What is the range of your family's average monthly earnings?\",\n",
       " 'Rate the following websites in terms of your usage time [Google]',\n",
       " 'Rate the following websites in terms of your usage time [Facebook]',\n",
       " 'Rate the following websites in terms of your usage time [Whatsapp]',\n",
       " 'Rate the following websites in terms of your usage time [Youtube]',\n",
       " 'Rate the following websites in terms of your usage time [Other sites]',\n",
       " 'What Power Backup do you use?',\n",
       " 'How much aware are you about solar?',\n",
       " 'Rate the importance of these factors in your solar purchase decision (1=least important, 5=most important) [Power backup]',\n",
       " 'Rate the importance of these factors in your solar purchase decision (1=least important, 5=most important) [ Increase in electricity prices.]',\n",
       " 'Rate the importance of these factors in your solar purchase decision (1=least important, 5=most important) [Fairly good saving on the power bill today]',\n",
       " 'Rate the importance of these factors in your solar purchase decision (1=least important, 5=most important) [Long life span of a solar power system (25 years or more)  with a low maintainance]',\n",
       " 'Rate the importance of these factors in your solar purchase decision (1=least important, 5=most important) [Interest in new technology]',\n",
       " 'Rate the importance of these factors in your solar purchase decision (1=least important, 5=most important) [Environment friendly]',\n",
       " 'Rate the importance of these factors in your solar purchase decision (1=least important, 5=most important) [Status symbol]',\n",
       " 'Rate the importance of these factors in your solar purchase decision (1=least important, 5=most important) [Earn from empty roof]',\n",
       " 'What electrical appliances do you own?',\n",
       " 'What are your appliances brands?  [AC]',\n",
       " 'What are your appliances brands?  [Refrigerator]',\n",
       " 'What are your appliances brands?  [Computer]',\n",
       " 'What are your appliances brands?  [TV]',\n",
       " 'What are your appliances brands?  [Water Heater]',\n",
       " 'What are your appliances brands?  [Washing Machine]',\n",
       " 'What is the next appliance you want to buy?',\n",
       " 'To what extent would the following factors discourage you from installing solar? (1=least important, 5=most important) [Number of years it takes for the investment to pay back (usually > 10 years)]',\n",
       " 'To what extent would the following factors discourage you from installing solar? (1=least important, 5=most important) [Not getting sufficient money for extra power generated ]',\n",
       " 'To what extent would the following factors discourage you from installing solar? (1=least important, 5=most important) [Lack of government incentives]',\n",
       " 'To what extent would the following factors discourage you from installing solar? (1=least important, 5=most important) [Lack of appropriate loan options]',\n",
       " 'To what extent would the following factors discourage you from installing solar? (1=least important, 5=most important) [High cost of solar power systems]',\n",
       " 'To what extent would the following factors discourage you from installing solar? (1=least important, 5=most important) [Solar Panels lead to concerns on outlook of the house]',\n",
       " 'To what extent would the following factors discourage you from installing solar? (1=least important, 5=most important) [I dont understand solar]',\n",
       " \"To what extent would the following factors discourage you from installing solar? (1=least important, 5=most important) [I don't know a good solar installer]\",\n",
       " 'To what extent would the following factors discourage you from installing solar? (1=least important, 5=most important) [My rooftop is not suitable for solar]',\n",
       " 'How much do you expect to at least save on your average electricity bill by installing a solar panel system?',\n",
       " 'What maximum investment would you be willing to make in solar?',\n",
       " 'Which one would you prefer?',\n",
       " 'Which one would you prefer ?',\n",
       " 'Do you have any relative/friend that bought a solar system?',\n",
       " 'Do you know any Solar Panel installation companies ?',\n",
       " 'Name the Solar company you know',\n",
       " 'Who owns the house you live in?',\n",
       " 'Which city is your house at?',\n",
       " 'Are you filling this form on behalf of your parents/others?',\n",
       " 'What are your computer brands?',\n",
       " 'State Name']"
      ]
     },
     "execution_count": 16,
     "metadata": {},
     "output_type": "execute_result"
    }
   ],
   "source": [
    "data.columns = [x.strip() for x in data.columns.tolist()]\n",
    "data.columns.tolist()"
   ]
  },
  {
   "cell_type": "code",
   "execution_count": 17,
   "metadata": {},
   "outputs": [],
   "source": [
    "data.columns = [x.replace('[', '-').replace(']', '-').replace('<', 'lt').replace('>', 'gt') for x in data.columns]"
   ]
  },
  {
   "cell_type": "code",
   "execution_count": 18,
   "metadata": {},
   "outputs": [
    {
     "data": {
      "text/plain": [
       "63"
      ]
     },
     "execution_count": 18,
     "metadata": {},
     "output_type": "execute_result"
    }
   ],
   "source": [
    "len(data.columns)"
   ]
  },
  {
   "cell_type": "code",
   "execution_count": 19,
   "metadata": {},
   "outputs": [],
   "source": [
    "target_proxy = 'What Power Backup do you use?'\n",
    "predictors = [x for x in data.columns if x != target_proxy]"
   ]
  },
  {
   "cell_type": "code",
   "execution_count": 20,
   "metadata": {},
   "outputs": [
    {
     "data": {
      "text/plain": [
       "0    94.518549\n",
       "1     5.481451\n",
       "Name: target, dtype: float64"
      ]
     },
     "execution_count": 20,
     "metadata": {},
     "output_type": "execute_result"
    }
   ],
   "source": [
    "data[target_proxy] = data[target_proxy].str.lower()\n",
    "data['target'] = np.where(data[target_proxy].str.contains('solar'), 1, 0)\n",
    "data['target'].value_counts(normalize=True)*100"
   ]
  },
  {
   "cell_type": "code",
   "execution_count": 79,
   "metadata": {},
   "outputs": [
    {
     "data": {
      "text/html": [
       "<div>\n",
       "<style scoped>\n",
       "    .dataframe tbody tr th:only-of-type {\n",
       "        vertical-align: middle;\n",
       "    }\n",
       "\n",
       "    .dataframe tbody tr th {\n",
       "        vertical-align: top;\n",
       "    }\n",
       "\n",
       "    .dataframe thead th {\n",
       "        text-align: right;\n",
       "    }\n",
       "</style>\n",
       "<table border=\"1\" class=\"dataframe\">\n",
       "  <thead>\n",
       "    <tr style=\"text-align: right;\">\n",
       "      <th></th>\n",
       "      <th>0</th>\n",
       "      <th>1</th>\n",
       "    </tr>\n",
       "  </thead>\n",
       "  <tbody>\n",
       "    <tr>\n",
       "      <th>target</th>\n",
       "      <td>4535</td>\n",
       "      <td>263</td>\n",
       "    </tr>\n",
       "  </tbody>\n",
       "</table>\n",
       "</div>"
      ],
      "text/plain": [
       "           0    1\n",
       "target  4535  263"
      ]
     },
     "execution_count": 79,
     "metadata": {},
     "output_type": "execute_result"
    }
   ],
   "source": [
    "target_df = pd.DataFrame(data['target'].value_counts(), index=[0,1]).T\n",
    "target_df"
   ]
  },
  {
   "cell_type": "code",
   "execution_count": 85,
   "metadata": {},
   "outputs": [],
   "source": [
    "bar_value = [x for x in target_df.iloc[0,]]"
   ]
  },
  {
   "cell_type": "code",
   "execution_count": 92,
   "metadata": {},
   "outputs": [
    {
     "data": {
      "image/png": "[encoded data removed]",
      "text/plain": [
       "<Figure size 400x400 with 1 Axes>"
      ]
     },
     "metadata": {},
     "output_type": "display_data"
    }
   ],
   "source": [
    "fig = plt.subplots(figsize =(4, 4)) \n",
    "plt.bar(['0','1'], bar_value, color=['lightblue','pink'])\n",
    "plt.xlabel(\"Target Class\")\n",
    "plt.ylabel(\"Count of data points\")\n",
    "plt.title(\"Data distribution among target classes\")\n",
    "plt.show()"
   ]
  },
  {
   "cell_type": "markdown",
   "metadata": {},
   "source": [
    "# Segregating predictors based on datatype"
   ]
  },
  {
   "cell_type": "code",
   "execution_count": 164,
   "metadata": {},
   "outputs": [
    {
     "data": {
      "text/plain": [
       "(25, 37)"
      ]
     },
     "execution_count": 164,
     "metadata": {},
     "output_type": "execute_result"
    }
   ],
   "source": [
    "numerical_features = []\n",
    "object_features = []\n",
    "for pred in predictors:\n",
    "    if data[pred].dtypes == float:\n",
    "        numerical_features.append(pred)\n",
    "    if data[pred].dtypes == object:\n",
    "        object_features.append(pred)\n",
    "\n",
    "len(numerical_features), len(object_features)    "
   ]
  },
  {
   "cell_type": "code",
   "execution_count": 165,
   "metadata": {},
   "outputs": [
    {
     "data": {
      "text/plain": [
       "['How many people live in your household(including children)?',\n",
       " 'Rate the following websites in terms of your usage time -Google-',\n",
       " 'Rate the following websites in terms of your usage time -Facebook-',\n",
       " 'Rate the following websites in terms of your usage time -Whatsapp-',\n",
       " 'Rate the following websites in terms of your usage time -Youtube-',\n",
       " 'Rate the following websites in terms of your usage time -Other sites-',\n",
       " 'How much aware are you about solar?',\n",
       " 'Rate the importance of these factors in your solar purchase decision (1=least important, 5=most important) -Power backup-',\n",
       " 'Rate the importance of these factors in your solar purchase decision (1=least important, 5=most important) - Increase in electricity prices.-',\n",
       " 'Rate the importance of these factors in your solar purchase decision (1=least important, 5=most important) -Fairly good saving on the power bill today-',\n",
       " 'Rate the importance of these factors in your solar purchase decision (1=least important, 5=most important) -Long life span of a solar power system (25 years or more)  with a low maintainance-',\n",
       " 'Rate the importance of these factors in your solar purchase decision (1=least important, 5=most important) -Interest in new technology-',\n",
       " 'Rate the importance of these factors in your solar purchase decision (1=least important, 5=most important) -Environment friendly-',\n",
       " 'Rate the importance of these factors in your solar purchase decision (1=least important, 5=most important) -Status symbol-',\n",
       " 'Rate the importance of these factors in your solar purchase decision (1=least important, 5=most important) -Earn from empty roof-',\n",
       " 'To what extent would the following factors discourage you from installing solar? (1=least important, 5=most important) -Number of years it takes for the investment to pay back (usually gt 10 years)-',\n",
       " 'To what extent would the following factors discourage you from installing solar? (1=least important, 5=most important) -Not getting sufficient money for extra power generated -',\n",
       " 'To what extent would the following factors discourage you from installing solar? (1=least important, 5=most important) -Lack of government incentives-',\n",
       " 'To what extent would the following factors discourage you from installing solar? (1=least important, 5=most important) -Lack of appropriate loan options-',\n",
       " 'To what extent would the following factors discourage you from installing solar? (1=least important, 5=most important) -High cost of solar power systems-',\n",
       " 'To what extent would the following factors discourage you from installing solar? (1=least important, 5=most important) -Solar Panels lead to concerns on outlook of the house-',\n",
       " 'To what extent would the following factors discourage you from installing solar? (1=least important, 5=most important) -I dont understand solar-',\n",
       " \"To what extent would the following factors discourage you from installing solar? (1=least important, 5=most important) -I don't know a good solar installer-\",\n",
       " 'To what extent would the following factors discourage you from installing solar? (1=least important, 5=most important) -My rooftop is not suitable for solar-',\n",
       " 'State Name']"
      ]
     },
     "execution_count": 165,
     "metadata": {},
     "output_type": "execute_result"
    }
   ],
   "source": [
    "numerical_features"
   ]
  },
  {
   "cell_type": "code",
   "execution_count": 166,
   "metadata": {},
   "outputs": [
    {
     "data": {
      "text/plain": [
       "['Full name',\n",
       " 'Age',\n",
       " 'Marital Status',\n",
       " 'Gender',\n",
       " 'Which type of organization do you work for?',\n",
       " 'Name of Profession',\n",
       " 'What is the type of home that you own?',\n",
       " 'Number of Floors in House',\n",
       " 'No of Rooms in your house',\n",
       " 'Do you plan to build an additional floor? (If other, what does it depend on?)',\n",
       " 'What percentage of your roof are you ready to give for solar?',\n",
       " 'Plot size of the house (In Square yards)',\n",
       " 'Do you have a home loan?',\n",
       " 'How many of the below vehicles do you own? -2-Wheelers-',\n",
       " 'How many of the below vehicles do you own? -4-Wheelers-',\n",
       " 'Which payment method do you use the most?',\n",
       " 'Do you currently have an EMI for any home appliance?',\n",
       " \"What is the range of your family's average monthly earnings?\",\n",
       " 'What electrical appliances do you own?',\n",
       " 'What are your appliances brands?  -AC-',\n",
       " 'What are your appliances brands?  -Refrigerator-',\n",
       " 'What are your appliances brands?  -Computer-',\n",
       " 'What are your appliances brands?  -TV-',\n",
       " 'What are your appliances brands?  -Water Heater-',\n",
       " 'What are your appliances brands?  -Washing Machine-',\n",
       " 'What is the next appliance you want to buy?',\n",
       " 'How much do you expect to at least save on your average electricity bill by installing a solar panel system?',\n",
       " 'What maximum investment would you be willing to make in solar?',\n",
       " 'Which one would you prefer?',\n",
       " 'Which one would you prefer ?',\n",
       " 'Do you have any relative/friend that bought a solar system?',\n",
       " 'Do you know any Solar Panel installation companies ?',\n",
       " 'Name the Solar company you know',\n",
       " 'Who owns the house you live in?',\n",
       " 'Which city is your house at?',\n",
       " 'Are you filling this form on behalf of your parents/others?',\n",
       " 'What are your computer brands?']"
      ]
     },
     "execution_count": 166,
     "metadata": {},
     "output_type": "execute_result"
    }
   ],
   "source": [
    "object_features"
   ]
  },
  {
   "cell_type": "code",
   "execution_count": null,
   "metadata": {},
   "outputs": [],
   "source": []
  },
  {
   "cell_type": "markdown",
   "metadata": {},
   "source": [
    "# Preprocessing"
   ]
  },
  {
   "cell_type": "code",
   "execution_count": 167,
   "metadata": {},
   "outputs": [
    {
     "data": {
      "text/html": [
       "<div>\n",
       "<style scoped>\n",
       "    .dataframe tbody tr th:only-of-type {\n",
       "        vertical-align: middle;\n",
       "    }\n",
       "\n",
       "    .dataframe tbody tr th {\n",
       "        vertical-align: top;\n",
       "    }\n",
       "\n",
       "    .dataframe thead th {\n",
       "        text-align: right;\n",
       "    }\n",
       "</style>\n",
       "<table border=\"1\" class=\"dataframe\">\n",
       "  <thead>\n",
       "    <tr style=\"text-align: right;\">\n",
       "      <th></th>\n",
       "      <th>nullrate</th>\n",
       "    </tr>\n",
       "  </thead>\n",
       "  <tbody>\n",
       "    <tr>\n",
       "      <th>State Name</th>\n",
       "      <td>100.000000</td>\n",
       "    </tr>\n",
       "    <tr>\n",
       "      <th>What are your appliances brands?  -Computer-</th>\n",
       "      <td>79.495728</td>\n",
       "    </tr>\n",
       "    <tr>\n",
       "      <th>What are your computer brands?</th>\n",
       "      <td>20.921025</td>\n",
       "    </tr>\n",
       "    <tr>\n",
       "      <th>What is the next appliance you want to buy?</th>\n",
       "      <td>18.399667</td>\n",
       "    </tr>\n",
       "    <tr>\n",
       "      <th>Name the Solar company you know</th>\n",
       "      <td>13.169410</td>\n",
       "    </tr>\n",
       "    <tr>\n",
       "      <th>...</th>\n",
       "      <td>...</td>\n",
       "    </tr>\n",
       "    <tr>\n",
       "      <th>Rate the following websites in terms of your usage time -Google-</th>\n",
       "      <td>0.020838</td>\n",
       "    </tr>\n",
       "    <tr>\n",
       "      <th>What is the range of your family's average monthly earnings?</th>\n",
       "      <td>0.020838</td>\n",
       "    </tr>\n",
       "    <tr>\n",
       "      <th>Which payment method do you use the most?</th>\n",
       "      <td>0.020838</td>\n",
       "    </tr>\n",
       "    <tr>\n",
       "      <th>To what extent would the following factors discourage you from installing solar? (1=least important, 5=most important) -Number of years it takes for the investment to pay back (usually gt 10 years)-</th>\n",
       "      <td>0.020838</td>\n",
       "    </tr>\n",
       "    <tr>\n",
       "      <th>Rate the importance of these factors in your solar purchase decision (1=least important, 5=most important) -Status symbol-</th>\n",
       "      <td>0.020838</td>\n",
       "    </tr>\n",
       "  </tbody>\n",
       "</table>\n",
       "<p>62 rows × 1 columns</p>\n",
       "</div>"
      ],
      "text/plain": [
       "                                                      nullrate\n",
       "State Name                                          100.000000\n",
       "What are your appliances brands?  -Computer-         79.495728\n",
       "What are your computer brands?                       20.921025\n",
       "What is the next appliance you want to buy?          18.399667\n",
       "Name the Solar company you know                      13.169410\n",
       "...                                                        ...\n",
       "Rate the following websites in terms of your us...    0.020838\n",
       "What is the range of your family's average mont...    0.020838\n",
       "Which payment method do you use the most?             0.020838\n",
       "To what extent would the following factors disc...    0.020838\n",
       "Rate the importance of these factors in your so...    0.020838\n",
       "\n",
       "[62 rows x 1 columns]"
      ]
     },
     "execution_count": 167,
     "metadata": {},
     "output_type": "execute_result"
    }
   ],
   "source": [
    "pd.DataFrame(data[predictors].isna().sum()/data.shape[0]*100, columns=['nullrate']).sort_values('nullrate', ascending=False)"
   ]
  },
  {
   "cell_type": "markdown",
   "metadata": {},
   "source": [
    "#### Observations\n",
    "- State Name is completely empty\n",
    "- Full name isn't a meaningful predictor"
   ]
  },
  {
   "cell_type": "code",
   "execution_count": 168,
   "metadata": {},
   "outputs": [],
   "source": [
    "predictors = [x for x in predictors if x not in ['State Name', 'Full name']]"
   ]
  },
  {
   "cell_type": "markdown",
   "metadata": {},
   "source": [
    "#### To maintain uniformity in the data, filling in the columns that have missing values using Mean, Median or Mode where necessary"
   ]
  },
  {
   "cell_type": "code",
   "execution_count": 172,
   "metadata": {},
   "outputs": [
    {
     "data": {
      "text/plain": [
       "What are your appliances brands?  -Computer-\n",
       "Blue Star    13.043478\n",
       "Daiken        0.000000\n",
       "Godrej        0.000000\n",
       "Haier        12.500000\n",
       "Hitachi       4.545455\n",
       "IFB           0.000000\n",
       "LG            4.838710\n",
       "Other         3.159851\n",
       "Panasonic     0.000000\n",
       "Samsung       3.157895\n",
       "Unknown       5.661861\n",
       "Videocon     11.111111\n",
       "Whirlpool     0.000000\n",
       "Name: target, dtype: float64"
      ]
     },
     "execution_count": 172,
     "metadata": {},
     "output_type": "execute_result"
    }
   ],
   "source": [
    "temp_data = data[['What are your appliances brands?  -Computer-', 'target']].fillna('Unknown')\n",
    "temp_data.groupby('What are your appliances brands?  -Computer-').target.mean()*100"
   ]
  },
  {
   "cell_type": "code",
   "execution_count": 173,
   "metadata": {},
   "outputs": [
    {
     "data": {
      "text/html": [
       "<div>\n",
       "<style scoped>\n",
       "    .dataframe tbody tr th:only-of-type {\n",
       "        vertical-align: middle;\n",
       "    }\n",
       "\n",
       "    .dataframe tbody tr th {\n",
       "        vertical-align: top;\n",
       "    }\n",
       "\n",
       "    .dataframe thead th {\n",
       "        text-align: right;\n",
       "    }\n",
       "</style>\n",
       "<table border=\"1\" class=\"dataframe\">\n",
       "  <thead>\n",
       "    <tr style=\"text-align: right;\">\n",
       "      <th></th>\n",
       "      <th>target</th>\n",
       "    </tr>\n",
       "    <tr>\n",
       "      <th>What are your computer brands?</th>\n",
       "      <th></th>\n",
       "    </tr>\n",
       "  </thead>\n",
       "  <tbody>\n",
       "    <tr>\n",
       "      <th>No</th>\n",
       "      <td>100.000000</td>\n",
       "    </tr>\n",
       "    <tr>\n",
       "      <th>My own</th>\n",
       "      <td>100.000000</td>\n",
       "    </tr>\n",
       "    <tr>\n",
       "      <th>Bsdk</th>\n",
       "      <td>100.000000</td>\n",
       "    </tr>\n",
       "    <tr>\n",
       "      <th>Assembled gaming Pc</th>\n",
       "      <td>100.000000</td>\n",
       "    </tr>\n",
       "    <tr>\n",
       "      <th>Toshiba</th>\n",
       "      <td>16.666667</td>\n",
       "    </tr>\n",
       "    <tr>\n",
       "      <th>...</th>\n",
       "      <td>...</td>\n",
       "    </tr>\n",
       "    <tr>\n",
       "      <th>Haldiram</th>\n",
       "      <td>0.000000</td>\n",
       "    </tr>\n",
       "    <tr>\n",
       "      <th>HP and Lenovo</th>\n",
       "      <td>0.000000</td>\n",
       "    </tr>\n",
       "    <tr>\n",
       "      <th>HCL</th>\n",
       "      <td>0.000000</td>\n",
       "    </tr>\n",
       "    <tr>\n",
       "      <th>Dont own</th>\n",
       "      <td>0.000000</td>\n",
       "    </tr>\n",
       "    <tr>\n",
       "      <th>zenith</th>\n",
       "      <td>0.000000</td>\n",
       "    </tr>\n",
       "  </tbody>\n",
       "</table>\n",
       "<p>99 rows × 1 columns</p>\n",
       "</div>"
      ],
      "text/plain": [
       "                                    target\n",
       "What are your computer brands?            \n",
       "No                              100.000000\n",
       "My own                          100.000000\n",
       "Bsdk                            100.000000\n",
       "Assembled gaming Pc             100.000000\n",
       "Toshiba                          16.666667\n",
       "...                                    ...\n",
       "Haldiram                          0.000000\n",
       "HP and Lenovo                     0.000000\n",
       "HCL                               0.000000\n",
       "Dont own                          0.000000\n",
       "zenith                            0.000000\n",
       "\n",
       "[99 rows x 1 columns]"
      ]
     },
     "execution_count": 173,
     "metadata": {},
     "output_type": "execute_result"
    }
   ],
   "source": [
    "temp_data2 = data[['What are your computer brands?', 'target']].fillna('Unknown')\n",
    "pd.DataFrame(temp_data2.groupby('What are your computer brands?').target.mean()*100).sort_values('target', ascending=False)"
   ]
  },
  {
   "cell_type": "code",
   "execution_count": 174,
   "metadata": {},
   "outputs": [],
   "source": [
    "# dict(temp_data2['What are your computer brands?'].value_counts())"
   ]
  },
  {
   "cell_type": "code",
   "execution_count": 175,
   "metadata": {},
   "outputs": [
    {
     "data": {
      "text/html": [
       "<div>\n",
       "<style scoped>\n",
       "    .dataframe tbody tr th:only-of-type {\n",
       "        vertical-align: middle;\n",
       "    }\n",
       "\n",
       "    .dataframe tbody tr th {\n",
       "        vertical-align: top;\n",
       "    }\n",
       "\n",
       "    .dataframe thead th {\n",
       "        text-align: right;\n",
       "    }\n",
       "</style>\n",
       "<table border=\"1\" class=\"dataframe\">\n",
       "  <thead>\n",
       "    <tr style=\"text-align: right;\">\n",
       "      <th></th>\n",
       "      <th>count</th>\n",
       "      <th>mean</th>\n",
       "      <th>std</th>\n",
       "      <th>min</th>\n",
       "      <th>25%</th>\n",
       "      <th>50%</th>\n",
       "      <th>75%</th>\n",
       "      <th>max</th>\n",
       "    </tr>\n",
       "  </thead>\n",
       "  <tbody>\n",
       "    <tr>\n",
       "      <th>How many people live in your household(including children)?</th>\n",
       "      <td>4797.0</td>\n",
       "      <td>4.632062</td>\n",
       "      <td>2.007990</td>\n",
       "      <td>1.0</td>\n",
       "      <td>3.0</td>\n",
       "      <td>4.0</td>\n",
       "      <td>5.0</td>\n",
       "      <td>10.0</td>\n",
       "    </tr>\n",
       "    <tr>\n",
       "      <th>Rate the following websites in terms of your usage time -Google-</th>\n",
       "      <td>4798.0</td>\n",
       "      <td>2.979158</td>\n",
       "      <td>1.419357</td>\n",
       "      <td>1.0</td>\n",
       "      <td>2.0</td>\n",
       "      <td>3.0</td>\n",
       "      <td>4.0</td>\n",
       "      <td>5.0</td>\n",
       "    </tr>\n",
       "    <tr>\n",
       "      <th>Rate the following websites in terms of your usage time -Facebook-</th>\n",
       "      <td>4798.0</td>\n",
       "      <td>2.399750</td>\n",
       "      <td>1.282268</td>\n",
       "      <td>1.0</td>\n",
       "      <td>1.0</td>\n",
       "      <td>2.0</td>\n",
       "      <td>3.0</td>\n",
       "      <td>5.0</td>\n",
       "    </tr>\n",
       "    <tr>\n",
       "      <th>Rate the following websites in terms of your usage time -Whatsapp-</th>\n",
       "      <td>4798.0</td>\n",
       "      <td>2.954981</td>\n",
       "      <td>1.357679</td>\n",
       "      <td>1.0</td>\n",
       "      <td>2.0</td>\n",
       "      <td>3.0</td>\n",
       "      <td>4.0</td>\n",
       "      <td>5.0</td>\n",
       "    </tr>\n",
       "    <tr>\n",
       "      <th>Rate the following websites in terms of your usage time -Youtube-</th>\n",
       "      <td>4798.0</td>\n",
       "      <td>2.939975</td>\n",
       "      <td>1.242255</td>\n",
       "      <td>1.0</td>\n",
       "      <td>2.0</td>\n",
       "      <td>3.0</td>\n",
       "      <td>4.0</td>\n",
       "      <td>5.0</td>\n",
       "    </tr>\n",
       "    <tr>\n",
       "      <th>Rate the following websites in terms of your usage time -Other sites-</th>\n",
       "      <td>4798.0</td>\n",
       "      <td>2.630263</td>\n",
       "      <td>1.336463</td>\n",
       "      <td>1.0</td>\n",
       "      <td>1.0</td>\n",
       "      <td>3.0</td>\n",
       "      <td>4.0</td>\n",
       "      <td>5.0</td>\n",
       "    </tr>\n",
       "    <tr>\n",
       "      <th>How much aware are you about solar?</th>\n",
       "      <td>4798.0</td>\n",
       "      <td>3.565444</td>\n",
       "      <td>1.203060</td>\n",
       "      <td>1.0</td>\n",
       "      <td>3.0</td>\n",
       "      <td>4.0</td>\n",
       "      <td>5.0</td>\n",
       "      <td>5.0</td>\n",
       "    </tr>\n",
       "    <tr>\n",
       "      <th>Rate the importance of these factors in your solar purchase decision (1=least important, 5=most important) -Power backup-</th>\n",
       "      <td>4798.0</td>\n",
       "      <td>3.300125</td>\n",
       "      <td>1.350871</td>\n",
       "      <td>1.0</td>\n",
       "      <td>2.0</td>\n",
       "      <td>3.0</td>\n",
       "      <td>5.0</td>\n",
       "      <td>5.0</td>\n",
       "    </tr>\n",
       "    <tr>\n",
       "      <th>Rate the importance of these factors in your solar purchase decision (1=least important, 5=most important) - Increase in electricity prices.-</th>\n",
       "      <td>4798.0</td>\n",
       "      <td>3.054189</td>\n",
       "      <td>1.281831</td>\n",
       "      <td>1.0</td>\n",
       "      <td>2.0</td>\n",
       "      <td>3.0</td>\n",
       "      <td>4.0</td>\n",
       "      <td>5.0</td>\n",
       "    </tr>\n",
       "    <tr>\n",
       "      <th>Rate the importance of these factors in your solar purchase decision (1=least important, 5=most important) -Fairly good saving on the power bill today-</th>\n",
       "      <td>4798.0</td>\n",
       "      <td>3.345977</td>\n",
       "      <td>1.249029</td>\n",
       "      <td>1.0</td>\n",
       "      <td>3.0</td>\n",
       "      <td>3.0</td>\n",
       "      <td>4.0</td>\n",
       "      <td>5.0</td>\n",
       "    </tr>\n",
       "    <tr>\n",
       "      <th>Rate the importance of these factors in your solar purchase decision (1=least important, 5=most important) -Long life span of a solar power system (25 years or more)  with a low maintainance-</th>\n",
       "      <td>4798.0</td>\n",
       "      <td>3.380784</td>\n",
       "      <td>1.270839</td>\n",
       "      <td>1.0</td>\n",
       "      <td>2.0</td>\n",
       "      <td>3.0</td>\n",
       "      <td>4.0</td>\n",
       "      <td>5.0</td>\n",
       "    </tr>\n",
       "    <tr>\n",
       "      <th>Rate the importance of these factors in your solar purchase decision (1=least important, 5=most important) -Interest in new technology-</th>\n",
       "      <td>4798.0</td>\n",
       "      <td>3.296999</td>\n",
       "      <td>1.265123</td>\n",
       "      <td>1.0</td>\n",
       "      <td>2.0</td>\n",
       "      <td>3.0</td>\n",
       "      <td>4.0</td>\n",
       "      <td>5.0</td>\n",
       "    </tr>\n",
       "    <tr>\n",
       "      <th>Rate the importance of these factors in your solar purchase decision (1=least important, 5=most important) -Environment friendly-</th>\n",
       "      <td>4798.0</td>\n",
       "      <td>3.590454</td>\n",
       "      <td>1.276154</td>\n",
       "      <td>1.0</td>\n",
       "      <td>3.0</td>\n",
       "      <td>4.0</td>\n",
       "      <td>5.0</td>\n",
       "      <td>5.0</td>\n",
       "    </tr>\n",
       "    <tr>\n",
       "      <th>Rate the importance of these factors in your solar purchase decision (1=least important, 5=most important) -Status symbol-</th>\n",
       "      <td>4798.0</td>\n",
       "      <td>2.647145</td>\n",
       "      <td>1.280831</td>\n",
       "      <td>1.0</td>\n",
       "      <td>2.0</td>\n",
       "      <td>3.0</td>\n",
       "      <td>4.0</td>\n",
       "      <td>5.0</td>\n",
       "    </tr>\n",
       "    <tr>\n",
       "      <th>Rate the importance of these factors in your solar purchase decision (1=least important, 5=most important) -Earn from empty roof-</th>\n",
       "      <td>4798.0</td>\n",
       "      <td>2.975406</td>\n",
       "      <td>1.317060</td>\n",
       "      <td>1.0</td>\n",
       "      <td>2.0</td>\n",
       "      <td>3.0</td>\n",
       "      <td>4.0</td>\n",
       "      <td>5.0</td>\n",
       "    </tr>\n",
       "    <tr>\n",
       "      <th>To what extent would the following factors discourage you from installing solar? (1=least important, 5=most important) -Number of years it takes for the investment to pay back (usually gt 10 years)-</th>\n",
       "      <td>4798.0</td>\n",
       "      <td>2.916840</td>\n",
       "      <td>1.329091</td>\n",
       "      <td>1.0</td>\n",
       "      <td>2.0</td>\n",
       "      <td>3.0</td>\n",
       "      <td>4.0</td>\n",
       "      <td>5.0</td>\n",
       "    </tr>\n",
       "    <tr>\n",
       "      <th>To what extent would the following factors discourage you from installing solar? (1=least important, 5=most important) -Not getting sufficient money for extra power generated -</th>\n",
       "      <td>4798.0</td>\n",
       "      <td>2.833472</td>\n",
       "      <td>1.216928</td>\n",
       "      <td>1.0</td>\n",
       "      <td>2.0</td>\n",
       "      <td>3.0</td>\n",
       "      <td>4.0</td>\n",
       "      <td>5.0</td>\n",
       "    </tr>\n",
       "    <tr>\n",
       "      <th>To what extent would the following factors discourage you from installing solar? (1=least important, 5=most important) -Lack of government incentives-</th>\n",
       "      <td>4798.0</td>\n",
       "      <td>2.964152</td>\n",
       "      <td>1.247372</td>\n",
       "      <td>1.0</td>\n",
       "      <td>2.0</td>\n",
       "      <td>3.0</td>\n",
       "      <td>4.0</td>\n",
       "      <td>5.0</td>\n",
       "    </tr>\n",
       "    <tr>\n",
       "      <th>To what extent would the following factors discourage you from installing solar? (1=least important, 5=most important) -Lack of appropriate loan options-</th>\n",
       "      <td>4798.0</td>\n",
       "      <td>2.837849</td>\n",
       "      <td>1.243691</td>\n",
       "      <td>1.0</td>\n",
       "      <td>2.0</td>\n",
       "      <td>3.0</td>\n",
       "      <td>4.0</td>\n",
       "      <td>5.0</td>\n",
       "    </tr>\n",
       "    <tr>\n",
       "      <th>To what extent would the following factors discourage you from installing solar? (1=least important, 5=most important) -High cost of solar power systems-</th>\n",
       "      <td>4798.0</td>\n",
       "      <td>3.245936</td>\n",
       "      <td>1.305031</td>\n",
       "      <td>1.0</td>\n",
       "      <td>2.0</td>\n",
       "      <td>3.0</td>\n",
       "      <td>4.0</td>\n",
       "      <td>5.0</td>\n",
       "    </tr>\n",
       "    <tr>\n",
       "      <th>To what extent would the following factors discourage you from installing solar? (1=least important, 5=most important) -Solar Panels lead to concerns on outlook of the house-</th>\n",
       "      <td>4798.0</td>\n",
       "      <td>2.656940</td>\n",
       "      <td>1.245825</td>\n",
       "      <td>1.0</td>\n",
       "      <td>2.0</td>\n",
       "      <td>3.0</td>\n",
       "      <td>3.0</td>\n",
       "      <td>5.0</td>\n",
       "    </tr>\n",
       "    <tr>\n",
       "      <th>To what extent would the following factors discourage you from installing solar? (1=least important, 5=most important) -I dont understand solar-</th>\n",
       "      <td>4798.0</td>\n",
       "      <td>2.208212</td>\n",
       "      <td>1.223169</td>\n",
       "      <td>1.0</td>\n",
       "      <td>1.0</td>\n",
       "      <td>2.0</td>\n",
       "      <td>3.0</td>\n",
       "      <td>5.0</td>\n",
       "    </tr>\n",
       "    <tr>\n",
       "      <th>To what extent would the following factors discourage you from installing solar? (1=least important, 5=most important) -I don't know a good solar installer-</th>\n",
       "      <td>4798.0</td>\n",
       "      <td>2.599625</td>\n",
       "      <td>1.274489</td>\n",
       "      <td>1.0</td>\n",
       "      <td>1.0</td>\n",
       "      <td>3.0</td>\n",
       "      <td>3.0</td>\n",
       "      <td>5.0</td>\n",
       "    </tr>\n",
       "    <tr>\n",
       "      <th>To what extent would the following factors discourage you from installing solar? (1=least important, 5=most important) -My rooftop is not suitable for solar-</th>\n",
       "      <td>4798.0</td>\n",
       "      <td>2.540434</td>\n",
       "      <td>1.318686</td>\n",
       "      <td>1.0</td>\n",
       "      <td>1.0</td>\n",
       "      <td>2.0</td>\n",
       "      <td>3.0</td>\n",
       "      <td>5.0</td>\n",
       "    </tr>\n",
       "  </tbody>\n",
       "</table>\n",
       "</div>"
      ],
      "text/plain": [
       "                                                     count      mean   \n",
       "How many people live in your household(includin...  4797.0  4.632062  \\\n",
       "Rate the following websites in terms of your us...  4798.0  2.979158   \n",
       "Rate the following websites in terms of your us...  4798.0  2.399750   \n",
       "Rate the following websites in terms of your us...  4798.0  2.954981   \n",
       "Rate the following websites in terms of your us...  4798.0  2.939975   \n",
       "Rate the following websites in terms of your us...  4798.0  2.630263   \n",
       "How much aware are you about solar?                 4798.0  3.565444   \n",
       "Rate the importance of these factors in your so...  4798.0  3.300125   \n",
       "Rate the importance of these factors in your so...  4798.0  3.054189   \n",
       "Rate the importance of these factors in your so...  4798.0  3.345977   \n",
       "Rate the importance of these factors in your so...  4798.0  3.380784   \n",
       "Rate the importance of these factors in your so...  4798.0  3.296999   \n",
       "Rate the importance of these factors in your so...  4798.0  3.590454   \n",
       "Rate the importance of these factors in your so...  4798.0  2.647145   \n",
       "Rate the importance of these factors in your so...  4798.0  2.975406   \n",
       "To what extent would the following factors disc...  4798.0  2.916840   \n",
       "To what extent would the following factors disc...  4798.0  2.833472   \n",
       "To what extent would the following factors disc...  4798.0  2.964152   \n",
       "To what extent would the following factors disc...  4798.0  2.837849   \n",
       "To what extent would the following factors disc...  4798.0  3.245936   \n",
       "To what extent would the following factors disc...  4798.0  2.656940   \n",
       "To what extent would the following factors disc...  4798.0  2.208212   \n",
       "To what extent would the following factors disc...  4798.0  2.599625   \n",
       "To what extent would the following factors disc...  4798.0  2.540434   \n",
       "\n",
       "                                                         std  min  25%  50%   \n",
       "How many people live in your household(includin...  2.007990  1.0  3.0  4.0  \\\n",
       "Rate the following websites in terms of your us...  1.419357  1.0  2.0  3.0   \n",
       "Rate the following websites in terms of your us...  1.282268  1.0  1.0  2.0   \n",
       "Rate the following websites in terms of your us...  1.357679  1.0  2.0  3.0   \n",
       "Rate the following websites in terms of your us...  1.242255  1.0  2.0  3.0   \n",
       "Rate the following websites in terms of your us...  1.336463  1.0  1.0  3.0   \n",
       "How much aware are you about solar?                 1.203060  1.0  3.0  4.0   \n",
       "Rate the importance of these factors in your so...  1.350871  1.0  2.0  3.0   \n",
       "Rate the importance of these factors in your so...  1.281831  1.0  2.0  3.0   \n",
       "Rate the importance of these factors in your so...  1.249029  1.0  3.0  3.0   \n",
       "Rate the importance of these factors in your so...  1.270839  1.0  2.0  3.0   \n",
       "Rate the importance of these factors in your so...  1.265123  1.0  2.0  3.0   \n",
       "Rate the importance of these factors in your so...  1.276154  1.0  3.0  4.0   \n",
       "Rate the importance of these factors in your so...  1.280831  1.0  2.0  3.0   \n",
       "Rate the importance of these factors in your so...  1.317060  1.0  2.0  3.0   \n",
       "To what extent would the following factors disc...  1.329091  1.0  2.0  3.0   \n",
       "To what extent would the following factors disc...  1.216928  1.0  2.0  3.0   \n",
       "To what extent would the following factors disc...  1.247372  1.0  2.0  3.0   \n",
       "To what extent would the following factors disc...  1.243691  1.0  2.0  3.0   \n",
       "To what extent would the following factors disc...  1.305031  1.0  2.0  3.0   \n",
       "To what extent would the following factors disc...  1.245825  1.0  2.0  3.0   \n",
       "To what extent would the following factors disc...  1.223169  1.0  1.0  2.0   \n",
       "To what extent would the following factors disc...  1.274489  1.0  1.0  3.0   \n",
       "To what extent would the following factors disc...  1.318686  1.0  1.0  2.0   \n",
       "\n",
       "                                                    75%   max  \n",
       "How many people live in your household(includin...  5.0  10.0  \n",
       "Rate the following websites in terms of your us...  4.0   5.0  \n",
       "Rate the following websites in terms of your us...  3.0   5.0  \n",
       "Rate the following websites in terms of your us...  4.0   5.0  \n",
       "Rate the following websites in terms of your us...  4.0   5.0  \n",
       "Rate the following websites in terms of your us...  4.0   5.0  \n",
       "How much aware are you about solar?                 5.0   5.0  \n",
       "Rate the importance of these factors in your so...  5.0   5.0  \n",
       "Rate the importance of these factors in your so...  4.0   5.0  \n",
       "Rate the importance of these factors in your so...  4.0   5.0  \n",
       "Rate the importance of these factors in your so...  4.0   5.0  \n",
       "Rate the importance of these factors in your so...  4.0   5.0  \n",
       "Rate the importance of these factors in your so...  5.0   5.0  \n",
       "Rate the importance of these factors in your so...  4.0   5.0  \n",
       "Rate the importance of these factors in your so...  4.0   5.0  \n",
       "To what extent would the following factors disc...  4.0   5.0  \n",
       "To what extent would the following factors disc...  4.0   5.0  \n",
       "To what extent would the following factors disc...  4.0   5.0  \n",
       "To what extent would the following factors disc...  4.0   5.0  \n",
       "To what extent would the following factors disc...  4.0   5.0  \n",
       "To what extent would the following factors disc...  3.0   5.0  \n",
       "To what extent would the following factors disc...  3.0   5.0  \n",
       "To what extent would the following factors disc...  3.0   5.0  \n",
       "To what extent would the following factors disc...  3.0   5.0  "
      ]
     },
     "execution_count": 175,
     "metadata": {},
     "output_type": "execute_result"
    }
   ],
   "source": [
    "data[predictors].describe().T"
   ]
  },
  {
   "cell_type": "code",
   "execution_count": 176,
   "metadata": {},
   "outputs": [],
   "source": [
    "def_rate_per_class = {}\n",
    "for pred in predictors:\n",
    "    temp_data = data[[pred, 'target']].fillna('None')\n",
    "    def_rate_per_class[pred] = temp_data.groupby(pred).agg({'target': ['count', 'mean']})"
   ]
  },
  {
   "cell_type": "markdown",
   "metadata": {},
   "source": [
    "## Cleaning the data"
   ]
  },
  {
   "cell_type": "markdown",
   "metadata": {},
   "source": [
    "#### To establish uniformity in the 'Which city is your house at' column, each city is raised to the level of its respective states so that the data can provide better and efficient results"
   ]
  },
  {
   "cell_type": "code",
   "execution_count": 177,
   "metadata": {},
   "outputs": [
    {
     "data": {
      "text/plain": [
       "dict_keys(['Andhra Pradesh', 'Arunachal Pradesh', 'Assam', 'Bihar', 'Chhattisgarh', 'Dadra and Nagar Haveli', 'Daman and Diu', 'Delhi', 'Goa', 'Gujarat', 'Haryana', 'Himachal Pradesh', 'Jammu and Kashmir', 'Jharkhand', 'Karnataka', 'Kerala', 'Madhya Pradesh', 'Maharashtra', 'Manipur', 'Meghalaya', 'Mizoram', 'Nagaland', 'Orissa', 'Puducherry', 'Punjab', 'Rajasthan', 'Sikkim', 'Tamil Nadu', 'Tripura', 'Uttar Pradesh', 'Uttarakhand', 'West Bengal'])"
      ]
     },
     "execution_count": 177,
     "metadata": {},
     "output_type": "execute_result"
    }
   ],
   "source": [
    "STATE_CITY_MAP = json.load(open('State_city_map.json', 'r'))\n",
    "STATE_CITY_MAP.keys()"
   ]
  },
  {
   "cell_type": "code",
   "execution_count": 178,
   "metadata": {},
   "outputs": [],
   "source": [
    "def city_to_state(city):\n",
    "    for state, cities in STATE_CITY_MAP.items():\n",
    "        if city in cities:\n",
    "            return(state)\n",
    "    return 'None'\n",
    "            "
   ]
  },
  {
   "cell_type": "code",
   "execution_count": 179,
   "metadata": {},
   "outputs": [
    {
     "data": {
      "text/plain": [
       "State Name\n",
       "None                 51.114816\n",
       "Delhi                 8.376745\n",
       "Uttar Pradesh         7.980829\n",
       "Maharashtra           4.334236\n",
       "Gujarat               4.167535\n",
       "Haryana               3.750781\n",
       "Andhra Pradesh        3.646593\n",
       "Bihar                 2.896437\n",
       "Madhya Pradesh        2.771411\n",
       "West Bengal           2.625547\n",
       "Orissa                1.625339\n",
       "Rajasthan             1.500313\n",
       "Punjab                1.000208\n",
       "Tamil Nadu            0.854345\n",
       "Jharkhand             0.791832\n",
       "Uttarakhand           0.625130\n",
       "Kerala                0.479267\n",
       "Chhattisgarh          0.333403\n",
       "Karnataka             0.333403\n",
       "Himachal Pradesh      0.312565\n",
       "Assam                 0.250052\n",
       "Jammu and Kashmir     0.083351\n",
       "Puducherry            0.041675\n",
       "Daman and Diu         0.041675\n",
       "Nagaland              0.020838\n",
       "Manipur               0.020838\n",
       "Meghalaya             0.020838\n",
       "Name: proportion, dtype: float64"
      ]
     },
     "execution_count": 179,
     "metadata": {},
     "output_type": "execute_result"
    }
   ],
   "source": [
    "data[\"State Name\"]=data[\"Which city is your house at?\"].apply(city_to_state)\n",
    "data['State Name'].value_counts(dropna=False, normalize=True)*100\n"
   ]
  },
  {
   "cell_type": "code",
   "execution_count": 180,
   "metadata": {},
   "outputs": [
    {
     "data": {
      "text/html": [
       "<div>\n",
       "<style scoped>\n",
       "    .dataframe tbody tr th:only-of-type {\n",
       "        vertical-align: middle;\n",
       "    }\n",
       "\n",
       "    .dataframe tbody tr th {\n",
       "        vertical-align: top;\n",
       "    }\n",
       "\n",
       "    .dataframe thead tr th {\n",
       "        text-align: left;\n",
       "    }\n",
       "\n",
       "    .dataframe thead tr:last-of-type th {\n",
       "        text-align: right;\n",
       "    }\n",
       "</style>\n",
       "<table border=\"1\" class=\"dataframe\">\n",
       "  <thead>\n",
       "    <tr>\n",
       "      <th></th>\n",
       "      <th colspan=\"2\" halign=\"left\">target</th>\n",
       "    </tr>\n",
       "    <tr>\n",
       "      <th></th>\n",
       "      <th>count</th>\n",
       "      <th>mean</th>\n",
       "    </tr>\n",
       "    <tr>\n",
       "      <th>State Name</th>\n",
       "      <th></th>\n",
       "      <th></th>\n",
       "    </tr>\n",
       "  </thead>\n",
       "  <tbody>\n",
       "    <tr>\n",
       "      <th>Himachal Pradesh</th>\n",
       "      <td>1500</td>\n",
       "      <td>13.333333</td>\n",
       "    </tr>\n",
       "    <tr>\n",
       "      <th>Kerala</th>\n",
       "      <td>2300</td>\n",
       "      <td>13.043478</td>\n",
       "    </tr>\n",
       "    <tr>\n",
       "      <th>Uttarakhand</th>\n",
       "      <td>3000</td>\n",
       "      <td>10.000000</td>\n",
       "    </tr>\n",
       "    <tr>\n",
       "      <th>Maharashtra</th>\n",
       "      <td>20800</td>\n",
       "      <td>8.653846</td>\n",
       "    </tr>\n",
       "    <tr>\n",
       "      <th>Rajasthan</th>\n",
       "      <td>7200</td>\n",
       "      <td>8.333333</td>\n",
       "    </tr>\n",
       "    <tr>\n",
       "      <th>Madhya Pradesh</th>\n",
       "      <td>13300</td>\n",
       "      <td>8.270677</td>\n",
       "    </tr>\n",
       "    <tr>\n",
       "      <th>Bihar</th>\n",
       "      <td>13900</td>\n",
       "      <td>6.474820</td>\n",
       "    </tr>\n",
       "    <tr>\n",
       "      <th>Orissa</th>\n",
       "      <td>7800</td>\n",
       "      <td>6.410256</td>\n",
       "    </tr>\n",
       "    <tr>\n",
       "      <th>Punjab</th>\n",
       "      <td>4800</td>\n",
       "      <td>6.250000</td>\n",
       "    </tr>\n",
       "    <tr>\n",
       "      <th>Gujarat</th>\n",
       "      <td>20000</td>\n",
       "      <td>5.500000</td>\n",
       "    </tr>\n",
       "    <tr>\n",
       "      <th>Uttar Pradesh</th>\n",
       "      <td>38300</td>\n",
       "      <td>5.483029</td>\n",
       "    </tr>\n",
       "    <tr>\n",
       "      <th>None</th>\n",
       "      <td>245300</td>\n",
       "      <td>5.421932</td>\n",
       "    </tr>\n",
       "    <tr>\n",
       "      <th>Jharkhand</th>\n",
       "      <td>3800</td>\n",
       "      <td>5.263158</td>\n",
       "    </tr>\n",
       "    <tr>\n",
       "      <th>Haryana</th>\n",
       "      <td>18000</td>\n",
       "      <td>4.444444</td>\n",
       "    </tr>\n",
       "    <tr>\n",
       "      <th>Andhra Pradesh</th>\n",
       "      <td>17500</td>\n",
       "      <td>4.000000</td>\n",
       "    </tr>\n",
       "    <tr>\n",
       "      <th>Delhi</th>\n",
       "      <td>40200</td>\n",
       "      <td>3.980100</td>\n",
       "    </tr>\n",
       "    <tr>\n",
       "      <th>West Bengal</th>\n",
       "      <td>12600</td>\n",
       "      <td>3.968254</td>\n",
       "    </tr>\n",
       "    <tr>\n",
       "      <th>Tamil Nadu</th>\n",
       "      <td>4100</td>\n",
       "      <td>2.439024</td>\n",
       "    </tr>\n",
       "    <tr>\n",
       "      <th>Manipur</th>\n",
       "      <td>100</td>\n",
       "      <td>0.000000</td>\n",
       "    </tr>\n",
       "    <tr>\n",
       "      <th>Meghalaya</th>\n",
       "      <td>100</td>\n",
       "      <td>0.000000</td>\n",
       "    </tr>\n",
       "    <tr>\n",
       "      <th>Nagaland</th>\n",
       "      <td>100</td>\n",
       "      <td>0.000000</td>\n",
       "    </tr>\n",
       "    <tr>\n",
       "      <th>Assam</th>\n",
       "      <td>1200</td>\n",
       "      <td>0.000000</td>\n",
       "    </tr>\n",
       "    <tr>\n",
       "      <th>Karnataka</th>\n",
       "      <td>1600</td>\n",
       "      <td>0.000000</td>\n",
       "    </tr>\n",
       "    <tr>\n",
       "      <th>Puducherry</th>\n",
       "      <td>200</td>\n",
       "      <td>0.000000</td>\n",
       "    </tr>\n",
       "    <tr>\n",
       "      <th>Jammu and Kashmir</th>\n",
       "      <td>400</td>\n",
       "      <td>0.000000</td>\n",
       "    </tr>\n",
       "    <tr>\n",
       "      <th>Daman and Diu</th>\n",
       "      <td>200</td>\n",
       "      <td>0.000000</td>\n",
       "    </tr>\n",
       "    <tr>\n",
       "      <th>Chhattisgarh</th>\n",
       "      <td>1600</td>\n",
       "      <td>0.000000</td>\n",
       "    </tr>\n",
       "  </tbody>\n",
       "</table>\n",
       "</div>"
      ],
      "text/plain": [
       "                   target           \n",
       "                    count       mean\n",
       "State Name                          \n",
       "Himachal Pradesh     1500  13.333333\n",
       "Kerala               2300  13.043478\n",
       "Uttarakhand          3000  10.000000\n",
       "Maharashtra         20800   8.653846\n",
       "Rajasthan            7200   8.333333\n",
       "Madhya Pradesh      13300   8.270677\n",
       "Bihar               13900   6.474820\n",
       "Orissa               7800   6.410256\n",
       "Punjab               4800   6.250000\n",
       "Gujarat             20000   5.500000\n",
       "Uttar Pradesh       38300   5.483029\n",
       "None               245300   5.421932\n",
       "Jharkhand            3800   5.263158\n",
       "Haryana             18000   4.444444\n",
       "Andhra Pradesh      17500   4.000000\n",
       "Delhi               40200   3.980100\n",
       "West Bengal         12600   3.968254\n",
       "Tamil Nadu           4100   2.439024\n",
       "Manipur               100   0.000000\n",
       "Meghalaya             100   0.000000\n",
       "Nagaland              100   0.000000\n",
       "Assam                1200   0.000000\n",
       "Karnataka            1600   0.000000\n",
       "Puducherry            200   0.000000\n",
       "Jammu and Kashmir     400   0.000000\n",
       "Daman and Diu         200   0.000000\n",
       "Chhattisgarh         1600   0.000000"
      ]
     },
     "execution_count": 180,
     "metadata": {},
     "output_type": "execute_result"
    }
   ],
   "source": [
    "(data.groupby('State Name').agg({'target': ['count', 'mean']})*100).sort_values(('target', 'mean'), ascending=False)"
   ]
  },
  {
   "cell_type": "code",
   "execution_count": 181,
   "metadata": {},
   "outputs": [],
   "source": [
    "numerical_features.remove('State Name')"
   ]
  },
  {
   "cell_type": "code",
   "execution_count": 182,
   "metadata": {},
   "outputs": [],
   "source": [
    "object_features.append('State Name')"
   ]
  },
  {
   "cell_type": "code",
   "execution_count": 183,
   "metadata": {},
   "outputs": [],
   "source": [
    "object_features.remove('Full name')"
   ]
  },
  {
   "cell_type": "code",
   "execution_count": 184,
   "metadata": {},
   "outputs": [
    {
     "data": {
      "text/plain": [
       "['Age',\n",
       " 'Marital Status',\n",
       " 'Gender',\n",
       " 'Which type of organization do you work for?',\n",
       " 'Name of Profession',\n",
       " 'What is the type of home that you own?',\n",
       " 'Number of Floors in House',\n",
       " 'No of Rooms in your house',\n",
       " 'Do you plan to build an additional floor? (If other, what does it depend on?)',\n",
       " 'What percentage of your roof are you ready to give for solar?',\n",
       " 'Plot size of the house (In Square yards)',\n",
       " 'Do you have a home loan?',\n",
       " 'How many of the below vehicles do you own? -2-Wheelers-',\n",
       " 'How many of the below vehicles do you own? -4-Wheelers-',\n",
       " 'Which payment method do you use the most?',\n",
       " 'Do you currently have an EMI for any home appliance?',\n",
       " \"What is the range of your family's average monthly earnings?\",\n",
       " 'What electrical appliances do you own?',\n",
       " 'What are your appliances brands?  -AC-',\n",
       " 'What are your appliances brands?  -Refrigerator-',\n",
       " 'What are your appliances brands?  -Computer-',\n",
       " 'What are your appliances brands?  -TV-',\n",
       " 'What are your appliances brands?  -Water Heater-',\n",
       " 'What are your appliances brands?  -Washing Machine-',\n",
       " 'What is the next appliance you want to buy?',\n",
       " 'How much do you expect to at least save on your average electricity bill by installing a solar panel system?',\n",
       " 'What maximum investment would you be willing to make in solar?',\n",
       " 'Which one would you prefer?',\n",
       " 'Which one would you prefer ?',\n",
       " 'Do you have any relative/friend that bought a solar system?',\n",
       " 'Do you know any Solar Panel installation companies ?',\n",
       " 'Name the Solar company you know',\n",
       " 'Who owns the house you live in?',\n",
       " 'Which city is your house at?',\n",
       " 'Are you filling this form on behalf of your parents/others?',\n",
       " 'What are your computer brands?',\n",
       " 'State Name']"
      ]
     },
     "execution_count": 184,
     "metadata": {},
     "output_type": "execute_result"
    }
   ],
   "source": [
    "object_features"
   ]
  },
  {
   "cell_type": "code",
   "execution_count": 185,
   "metadata": {},
   "outputs": [],
   "source": [
    "label_encoder = LabelEncoder()\n",
    "\n",
    "for feat in object_features:\n",
    "    data[f'{feat}_encoded'] = label_encoder.fit_transform(data[feat])"
   ]
  },
  {
   "cell_type": "markdown",
   "metadata": {},
   "source": [
    "# Prediction"
   ]
  },
  {
   "cell_type": "code",
   "execution_count": 186,
   "metadata": {},
   "outputs": [
    {
     "data": {
      "text/plain": [
       "61"
      ]
     },
     "execution_count": 186,
     "metadata": {},
     "output_type": "execute_result"
    }
   ],
   "source": [
    "predictors_2 = numerical_features + [f'{feat}_encoded' for feat in object_features]\n",
    "len(predictors_2)"
   ]
  },
  {
   "cell_type": "code",
   "execution_count": 187,
   "metadata": {},
   "outputs": [],
   "source": [
    "def gini(y_pred, y_true):\n",
    "    return abs(200 * roc_auc_score(y_true, y_pred) - 100)"
   ]
  },
  {
   "cell_type": "code",
   "execution_count": 189,
   "metadata": {},
   "outputs": [
    {
     "data": {
      "text/html": [
       "<div>\n",
       "<style scoped>\n",
       "    .dataframe tbody tr th:only-of-type {\n",
       "        vertical-align: middle;\n",
       "    }\n",
       "\n",
       "    .dataframe tbody tr th {\n",
       "        vertical-align: top;\n",
       "    }\n",
       "\n",
       "    .dataframe thead th {\n",
       "        text-align: right;\n",
       "    }\n",
       "</style>\n",
       "<table border=\"1\" class=\"dataframe\">\n",
       "  <thead>\n",
       "    <tr style=\"text-align: right;\">\n",
       "      <th></th>\n",
       "      <th>gini</th>\n",
       "    </tr>\n",
       "  </thead>\n",
       "  <tbody>\n",
       "    <tr>\n",
       "      <th>Do you have any relative/friend that bought a solar system?_encoded</th>\n",
       "      <td>30.828238</td>\n",
       "    </tr>\n",
       "    <tr>\n",
       "      <th>Do you know any Solar Panel installation companies ?_encoded</th>\n",
       "      <td>25.040510</td>\n",
       "    </tr>\n",
       "    <tr>\n",
       "      <th>What maximum investment would you be willing to make in solar?_encoded</th>\n",
       "      <td>20.573569</td>\n",
       "    </tr>\n",
       "    <tr>\n",
       "      <th>To what extent would the following factors discourage you from installing solar? (1=least important, 5=most important) -Not getting sufficient money for extra power generated -</th>\n",
       "      <td>12.118839</td>\n",
       "    </tr>\n",
       "    <tr>\n",
       "      <th>Do you plan to build an additional floor? (If other, what does it depend on?)_encoded</th>\n",
       "      <td>11.705172</td>\n",
       "    </tr>\n",
       "    <tr>\n",
       "      <th>...</th>\n",
       "      <td>...</td>\n",
       "    </tr>\n",
       "    <tr>\n",
       "      <th>Rate the following websites in terms of your usage time -Facebook-</th>\n",
       "      <td>0.764229</td>\n",
       "    </tr>\n",
       "    <tr>\n",
       "      <th>Do you have a home loan?_encoded</th>\n",
       "      <td>0.691006</td>\n",
       "    </tr>\n",
       "    <tr>\n",
       "      <th>Which one would you prefer ?_encoded</th>\n",
       "      <td>0.325749</td>\n",
       "    </tr>\n",
       "    <tr>\n",
       "      <th>Which city is your house at?_encoded</th>\n",
       "      <td>0.188266</td>\n",
       "    </tr>\n",
       "    <tr>\n",
       "      <th>To what extent would the following factors discourage you from installing solar? (1=least important, 5=most important) -My rooftop is not suitable for solar-</th>\n",
       "      <td>0.156451</td>\n",
       "    </tr>\n",
       "  </tbody>\n",
       "</table>\n",
       "<p>61 rows × 1 columns</p>\n",
       "</div>"
      ],
      "text/plain": [
       "                                                         gini\n",
       "Do you have any relative/friend that bought a s...  30.828238\n",
       "Do you know any Solar Panel installation compan...  25.040510\n",
       "What maximum investment would you be willing to...  20.573569\n",
       "To what extent would the following factors disc...  12.118839\n",
       "Do you plan to build an additional floor? (If o...  11.705172\n",
       "...                                                       ...\n",
       "Rate the following websites in terms of your us...   0.764229\n",
       "Do you have a home loan?_encoded                     0.691006\n",
       "Which one would you prefer ?_encoded                 0.325749\n",
       "Which city is your house at?_encoded                 0.188266\n",
       "To what extent would the following factors disc...   0.156451\n",
       "\n",
       "[61 rows x 1 columns]"
      ]
     },
     "execution_count": 189,
     "metadata": {},
     "output_type": "execute_result"
    }
   ],
   "source": [
    "gini_dict = {}\n",
    "for pred in predictors_2:\n",
    "    if data[pred].dtypes in (float, int):\n",
    "        temp_data = data[data[pred].notna()]\n",
    "        gini_dict[pred] = gini(temp_data[pred], temp_data['target'])\n",
    "\n",
    "pd.DataFrame(gini_dict, index=['gini']).T.sort_values('gini', ascending=False)"
   ]
  },
  {
   "cell_type": "markdown",
   "metadata": {},
   "source": [
    "#### Splitting the data into train and test"
   ]
  },
  {
   "cell_type": "code",
   "execution_count": 190,
   "metadata": {},
   "outputs": [],
   "source": [
    "data[predictors_2] = data[predictors_2].fillna(-1)"
   ]
  },
  {
   "cell_type": "code",
   "execution_count": 191,
   "metadata": {},
   "outputs": [
    {
     "data": {
      "text/plain": [
       "((3359, 61), (1440, 61), (3359,), (1440,))"
      ]
     },
     "execution_count": 191,
     "metadata": {},
     "output_type": "execute_result"
    }
   ],
   "source": [
    "x_train, x_test, y_train, y_test = train_test_split(data[predictors_2], data['target'], test_size=0.3, random_state=1)\n",
    "x_train.shape, x_test.shape, y_train.shape, y_test.shape"
   ]
  },
  {
   "cell_type": "markdown",
   "metadata": {},
   "source": [
    "#### Applying Logistic Regression Classifier"
   ]
  },
  {
   "cell_type": "code",
   "execution_count": 192,
   "metadata": {},
   "outputs": [
    {
     "data": {
      "text/html": [
       "<style>#sk-container-id-2 {color: black;}#sk-container-id-2 pre{padding: 0;}#sk-container-id-2 div.sk-toggleable {background-color: white;}#sk-container-id-2 label.sk-toggleable__label {cursor: pointer;display: block;width: 100%;margin-bottom: 0;padding: 0.3em;box-sizing: border-box;text-align: center;}#sk-container-id-2 label.sk-toggleable__label-arrow:before {content: \"▸\";float: left;margin-right: 0.25em;color: #696969;}#sk-container-id-2 label.sk-toggleable__label-arrow:hover:before {color: black;}#sk-container-id-2 div.sk-estimator:hover label.sk-toggleable__label-arrow:before {color: black;}#sk-container-id-2 div.sk-toggleable__content {max-height: 0;max-width: 0;overflow: hidden;text-align: left;background-color: #f0f8ff;}#sk-container-id-2 div.sk-toggleable__content pre {margin: 0.2em;color: black;border-radius: 0.25em;background-color: #f0f8ff;}#sk-container-id-2 input.sk-toggleable__control:checked~div.sk-toggleable__content {max-height: 200px;max-width: 100%;overflow: auto;}#sk-container-id-2 input.sk-toggleable__control:checked~label.sk-toggleable__label-arrow:before {content: \"▾\";}#sk-container-id-2 div.sk-estimator input.sk-toggleable__control:checked~label.sk-toggleable__label {background-color: #d4ebff;}#sk-container-id-2 div.sk-label input.sk-toggleable__control:checked~label.sk-toggleable__label {background-color: #d4ebff;}#sk-container-id-2 input.sk-hidden--visually {border: 0;clip: rect(1px 1px 1px 1px);clip: rect(1px, 1px, 1px, 1px);height: 1px;margin: -1px;overflow: hidden;padding: 0;position: absolute;width: 1px;}#sk-container-id-2 div.sk-estimator {font-family: monospace;background-color: #f0f8ff;border: 1px dotted black;border-radius: 0.25em;box-sizing: border-box;margin-bottom: 0.5em;}#sk-container-id-2 div.sk-estimator:hover {background-color: #d4ebff;}#sk-container-id-2 div.sk-parallel-item::after {content: \"\";width: 100%;border-bottom: 1px solid gray;flex-grow: 1;}#sk-container-id-2 div.sk-label:hover label.sk-toggleable__label {background-color: #d4ebff;}#sk-container-id-2 div.sk-serial::before {content: \"\";position: absolute;border-left: 1px solid gray;box-sizing: border-box;top: 0;bottom: 0;left: 50%;z-index: 0;}#sk-container-id-2 div.sk-serial {display: flex;flex-direction: column;align-items: center;background-color: white;padding-right: 0.2em;padding-left: 0.2em;position: relative;}#sk-container-id-2 div.sk-item {position: relative;z-index: 1;}#sk-container-id-2 div.sk-parallel {display: flex;align-items: stretch;justify-content: center;background-color: white;position: relative;}#sk-container-id-2 div.sk-item::before, #sk-container-id-2 div.sk-parallel-item::before {content: \"\";position: absolute;border-left: 1px solid gray;box-sizing: border-box;top: 0;bottom: 0;left: 50%;z-index: -1;}#sk-container-id-2 div.sk-parallel-item {display: flex;flex-direction: column;z-index: 1;position: relative;background-color: white;}#sk-container-id-2 div.sk-parallel-item:first-child::after {align-self: flex-end;width: 50%;}#sk-container-id-2 div.sk-parallel-item:last-child::after {align-self: flex-start;width: 50%;}#sk-container-id-2 div.sk-parallel-item:only-child::after {width: 0;}#sk-container-id-2 div.sk-dashed-wrapped {border: 1px dashed gray;margin: 0 0.4em 0.5em 0.4em;box-sizing: border-box;padding-bottom: 0.4em;background-color: white;}#sk-container-id-2 div.sk-label label {font-family: monospace;font-weight: bold;display: inline-block;line-height: 1.2em;}#sk-container-id-2 div.sk-label-container {text-align: center;}#sk-container-id-2 div.sk-container {/* jupyter's `normalize.less` sets `[hidden] { display: none; }` but bootstrap.min.css set `[hidden] { display: none !important; }` so we also need the `!important` here to be able to override the default hidden behavior on the sphinx rendered scikit-learn.org. See: https://github.com/scikit-learn/scikit-learn/issues/21755 */display: inline-block !important;position: relative;}#sk-container-id-2 div.sk-text-repr-fallback {display: none;}</style><div id=\"sk-container-id-2\" class=\"sk-top-container\"><div class=\"sk-text-repr-fallback\"><pre>LogisticRegressionCV(cv=5, max_iter=500, penalty=&#x27;l1&#x27;, random_state=1,\n",
       "                     solver=&#x27;liblinear&#x27;)</pre><b>In a Jupyter environment, please rerun this cell to show the HTML representation or trust the notebook. <br />On GitHub, the HTML representation is unable to render, please try loading this page with nbviewer.org.</b></div><div class=\"sk-container\" hidden><div class=\"sk-item\"><div class=\"sk-estimator sk-toggleable\"><input class=\"sk-toggleable__control sk-hidden--visually\" id=\"sk-estimator-id-2\" type=\"checkbox\" checked><label for=\"sk-estimator-id-2\" class=\"sk-toggleable__label sk-toggleable__label-arrow\">LogisticRegressionCV</label><div class=\"sk-toggleable__content\"><pre>LogisticRegressionCV(cv=5, max_iter=500, penalty=&#x27;l1&#x27;, random_state=1,\n",
       "                     solver=&#x27;liblinear&#x27;)</pre></div></div></div></div></div>"
      ],
      "text/plain": [
       "LogisticRegressionCV(cv=5, max_iter=500, penalty='l1', random_state=1,\n",
       "                     solver='liblinear')"
      ]
     },
     "execution_count": 192,
     "metadata": {},
     "output_type": "execute_result"
    }
   ],
   "source": [
    "model1 = LogisticRegressionCV(cv=5, solver='liblinear', penalty='l1', max_iter=500, random_state=1)\n",
    "model1.fit(x_train, y_train)"
   ]
  },
  {
   "cell_type": "code",
   "execution_count": 196,
   "metadata": {},
   "outputs": [],
   "source": [
    "y_testpred1 = model1.predict_proba(x_test)[:,1]"
   ]
  },
  {
   "cell_type": "code",
   "execution_count": 197,
   "metadata": {},
   "outputs": [
    {
     "data": {
      "text/plain": [
       "1.6650422352176832"
      ]
     },
     "execution_count": 197,
     "metadata": {},
     "output_type": "execute_result"
    }
   ],
   "source": [
    "gini(y_testpred1, y_test)"
   ]
  },
  {
   "cell_type": "code",
   "execution_count": 198,
   "metadata": {},
   "outputs": [],
   "source": [
    "model2 = XGBClassifier()"
   ]
  },
  {
   "cell_type": "code",
   "execution_count": 199,
   "metadata": {},
   "outputs": [
    {
     "data": {
      "text/html": [
       "<style>#sk-container-id-3 {color: black;}#sk-container-id-3 pre{padding: 0;}#sk-container-id-3 div.sk-toggleable {background-color: white;}#sk-container-id-3 label.sk-toggleable__label {cursor: pointer;display: block;width: 100%;margin-bottom: 0;padding: 0.3em;box-sizing: border-box;text-align: center;}#sk-container-id-3 label.sk-toggleable__label-arrow:before {content: \"▸\";float: left;margin-right: 0.25em;color: #696969;}#sk-container-id-3 label.sk-toggleable__label-arrow:hover:before {color: black;}#sk-container-id-3 div.sk-estimator:hover label.sk-toggleable__label-arrow:before {color: black;}#sk-container-id-3 div.sk-toggleable__content {max-height: 0;max-width: 0;overflow: hidden;text-align: left;background-color: #f0f8ff;}#sk-container-id-3 div.sk-toggleable__content pre {margin: 0.2em;color: black;border-radius: 0.25em;background-color: #f0f8ff;}#sk-container-id-3 input.sk-toggleable__control:checked~div.sk-toggleable__content {max-height: 200px;max-width: 100%;overflow: auto;}#sk-container-id-3 input.sk-toggleable__control:checked~label.sk-toggleable__label-arrow:before {content: \"▾\";}#sk-container-id-3 div.sk-estimator input.sk-toggleable__control:checked~label.sk-toggleable__label {background-color: #d4ebff;}#sk-container-id-3 div.sk-label input.sk-toggleable__control:checked~label.sk-toggleable__label {background-color: #d4ebff;}#sk-container-id-3 input.sk-hidden--visually {border: 0;clip: rect(1px 1px 1px 1px);clip: rect(1px, 1px, 1px, 1px);height: 1px;margin: -1px;overflow: hidden;padding: 0;position: absolute;width: 1px;}#sk-container-id-3 div.sk-estimator {font-family: monospace;background-color: #f0f8ff;border: 1px dotted black;border-radius: 0.25em;box-sizing: border-box;margin-bottom: 0.5em;}#sk-container-id-3 div.sk-estimator:hover {background-color: #d4ebff;}#sk-container-id-3 div.sk-parallel-item::after {content: \"\";width: 100%;border-bottom: 1px solid gray;flex-grow: 1;}#sk-container-id-3 div.sk-label:hover label.sk-toggleable__label {background-color: #d4ebff;}#sk-container-id-3 div.sk-serial::before {content: \"\";position: absolute;border-left: 1px solid gray;box-sizing: border-box;top: 0;bottom: 0;left: 50%;z-index: 0;}#sk-container-id-3 div.sk-serial {display: flex;flex-direction: column;align-items: center;background-color: white;padding-right: 0.2em;padding-left: 0.2em;position: relative;}#sk-container-id-3 div.sk-item {position: relative;z-index: 1;}#sk-container-id-3 div.sk-parallel {display: flex;align-items: stretch;justify-content: center;background-color: white;position: relative;}#sk-container-id-3 div.sk-item::before, #sk-container-id-3 div.sk-parallel-item::before {content: \"\";position: absolute;border-left: 1px solid gray;box-sizing: border-box;top: 0;bottom: 0;left: 50%;z-index: -1;}#sk-container-id-3 div.sk-parallel-item {display: flex;flex-direction: column;z-index: 1;position: relative;background-color: white;}#sk-container-id-3 div.sk-parallel-item:first-child::after {align-self: flex-end;width: 50%;}#sk-container-id-3 div.sk-parallel-item:last-child::after {align-self: flex-start;width: 50%;}#sk-container-id-3 div.sk-parallel-item:only-child::after {width: 0;}#sk-container-id-3 div.sk-dashed-wrapped {border: 1px dashed gray;margin: 0 0.4em 0.5em 0.4em;box-sizing: border-box;padding-bottom: 0.4em;background-color: white;}#sk-container-id-3 div.sk-label label {font-family: monospace;font-weight: bold;display: inline-block;line-height: 1.2em;}#sk-container-id-3 div.sk-label-container {text-align: center;}#sk-container-id-3 div.sk-container {/* jupyter's `normalize.less` sets `[hidden] { display: none; }` but bootstrap.min.css set `[hidden] { display: none !important; }` so we also need the `!important` here to be able to override the default hidden behavior on the sphinx rendered scikit-learn.org. See: https://github.com/scikit-learn/scikit-learn/issues/21755 */display: inline-block !important;position: relative;}#sk-container-id-3 div.sk-text-repr-fallback {display: none;}</style><div id=\"sk-container-id-3\" class=\"sk-top-container\"><div class=\"sk-text-repr-fallback\"><pre>XGBClassifier(base_score=None, booster=None, callbacks=None,\n",
       "              colsample_bylevel=None, colsample_bynode=None,\n",
       "              colsample_bytree=None, early_stopping_rounds=None,\n",
       "              enable_categorical=False, eval_metric=None, feature_types=None,\n",
       "              gamma=None, gpu_id=None, grow_policy=None, importance_type=None,\n",
       "              interaction_constraints=None, learning_rate=None, max_bin=None,\n",
       "              max_cat_threshold=None, max_cat_to_onehot=None,\n",
       "              max_delta_step=None, max_depth=None, max_leaves=None,\n",
       "              min_child_weight=None, missing=nan, monotone_constraints=None,\n",
       "              n_estimators=100, n_jobs=None, num_parallel_tree=None,\n",
       "              predictor=None, random_state=None, ...)</pre><b>In a Jupyter environment, please rerun this cell to show the HTML representation or trust the notebook. <br />On GitHub, the HTML representation is unable to render, please try loading this page with nbviewer.org.</b></div><div class=\"sk-container\" hidden><div class=\"sk-item\"><div class=\"sk-estimator sk-toggleable\"><input class=\"sk-toggleable__control sk-hidden--visually\" id=\"sk-estimator-id-3\" type=\"checkbox\" checked><label for=\"sk-estimator-id-3\" class=\"sk-toggleable__label sk-toggleable__label-arrow\">XGBClassifier</label><div class=\"sk-toggleable__content\"><pre>XGBClassifier(base_score=None, booster=None, callbacks=None,\n",
       "              colsample_bylevel=None, colsample_bynode=None,\n",
       "              colsample_bytree=None, early_stopping_rounds=None,\n",
       "              enable_categorical=False, eval_metric=None, feature_types=None,\n",
       "              gamma=None, gpu_id=None, grow_policy=None, importance_type=None,\n",
       "              interaction_constraints=None, learning_rate=None, max_bin=None,\n",
       "              max_cat_threshold=None, max_cat_to_onehot=None,\n",
       "              max_delta_step=None, max_depth=None, max_leaves=None,\n",
       "              min_child_weight=None, missing=nan, monotone_constraints=None,\n",
       "              n_estimators=100, n_jobs=None, num_parallel_tree=None,\n",
       "              predictor=None, random_state=None, ...)</pre></div></div></div></div></div>"
      ],
      "text/plain": [
       "XGBClassifier(base_score=None, booster=None, callbacks=None,\n",
       "              colsample_bylevel=None, colsample_bynode=None,\n",
       "              colsample_bytree=None, early_stopping_rounds=None,\n",
       "              enable_categorical=False, eval_metric=None, feature_types=None,\n",
       "              gamma=None, gpu_id=None, grow_policy=None, importance_type=None,\n",
       "              interaction_constraints=None, learning_rate=None, max_bin=None,\n",
       "              max_cat_threshold=None, max_cat_to_onehot=None,\n",
       "              max_delta_step=None, max_depth=None, max_leaves=None,\n",
       "              min_child_weight=None, missing=nan, monotone_constraints=None,\n",
       "              n_estimators=100, n_jobs=None, num_parallel_tree=None,\n",
       "              predictor=None, random_state=None, ...)"
      ]
     },
     "execution_count": 199,
     "metadata": {},
     "output_type": "execute_result"
    }
   ],
   "source": [
    "model2.fit(x_train, y_train)"
   ]
  },
  {
   "cell_type": "code",
   "execution_count": 200,
   "metadata": {},
   "outputs": [],
   "source": [
    "y_testpred2 = model2.predict_proba(x_test)[:,1]"
   ]
  },
  {
   "cell_type": "code",
   "execution_count": 201,
   "metadata": {},
   "outputs": [
    {
     "data": {
      "text/plain": [
       "41.98140025990904"
      ]
     },
     "execution_count": 201,
     "metadata": {},
     "output_type": "execute_result"
    }
   ],
   "source": [
    "gini(y_testpred2, y_test)"
   ]
  },
  {
   "cell_type": "code",
   "execution_count": 206,
   "metadata": {},
   "outputs": [
    {
     "data": {
      "text/html": [
       "<div>\n",
       "<style scoped>\n",
       "    .dataframe tbody tr th:only-of-type {\n",
       "        vertical-align: middle;\n",
       "    }\n",
       "\n",
       "    .dataframe tbody tr th {\n",
       "        vertical-align: top;\n",
       "    }\n",
       "\n",
       "    .dataframe thead th {\n",
       "        text-align: right;\n",
       "    }\n",
       "</style>\n",
       "<table border=\"1\" class=\"dataframe\">\n",
       "  <thead>\n",
       "    <tr style=\"text-align: right;\">\n",
       "      <th></th>\n",
       "      <th>feature</th>\n",
       "      <th>importance</th>\n",
       "    </tr>\n",
       "  </thead>\n",
       "  <tbody>\n",
       "    <tr>\n",
       "      <th>53</th>\n",
       "      <td>Do you have any relative/friend that bought a ...</td>\n",
       "      <td>0.065154</td>\n",
       "    </tr>\n",
       "    <tr>\n",
       "      <th>17</th>\n",
       "      <td>To what extent would the following factors dis...</td>\n",
       "      <td>0.024662</td>\n",
       "    </tr>\n",
       "    <tr>\n",
       "      <th>6</th>\n",
       "      <td>How much aware are you about solar?</td>\n",
       "      <td>0.024213</td>\n",
       "    </tr>\n",
       "    <tr>\n",
       "      <th>9</th>\n",
       "      <td>Rate the importance of these factors in your s...</td>\n",
       "      <td>0.023658</td>\n",
       "    </tr>\n",
       "    <tr>\n",
       "      <th>50</th>\n",
       "      <td>What maximum investment would you be willing t...</td>\n",
       "      <td>0.023127</td>\n",
       "    </tr>\n",
       "    <tr>\n",
       "      <th>...</th>\n",
       "      <td>...</td>\n",
       "      <td>...</td>\n",
       "    </tr>\n",
       "    <tr>\n",
       "      <th>7</th>\n",
       "      <td>Rate the importance of these factors in your s...</td>\n",
       "      <td>0.009793</td>\n",
       "    </tr>\n",
       "    <tr>\n",
       "      <th>30</th>\n",
       "      <td>Number of Floors in House_encoded</td>\n",
       "      <td>0.008487</td>\n",
       "    </tr>\n",
       "    <tr>\n",
       "      <th>4</th>\n",
       "      <td>Rate the following websites in terms of your u...</td>\n",
       "      <td>0.007301</td>\n",
       "    </tr>\n",
       "    <tr>\n",
       "      <th>52</th>\n",
       "      <td>Which one would you prefer ?_encoded</td>\n",
       "      <td>0.004564</td>\n",
       "    </tr>\n",
       "    <tr>\n",
       "      <th>58</th>\n",
       "      <td>Are you filling this form on behalf of your pa...</td>\n",
       "      <td>0.003535</td>\n",
       "    </tr>\n",
       "  </tbody>\n",
       "</table>\n",
       "<p>61 rows × 2 columns</p>\n",
       "</div>"
      ],
      "text/plain": [
       "                                              feature  importance\n",
       "53  Do you have any relative/friend that bought a ...    0.065154\n",
       "17  To what extent would the following factors dis...    0.024662\n",
       "6                 How much aware are you about solar?    0.024213\n",
       "9   Rate the importance of these factors in your s...    0.023658\n",
       "50  What maximum investment would you be willing t...    0.023127\n",
       "..                                                ...         ...\n",
       "7   Rate the importance of these factors in your s...    0.009793\n",
       "30                  Number of Floors in House_encoded    0.008487\n",
       "4   Rate the following websites in terms of your u...    0.007301\n",
       "52               Which one would you prefer ?_encoded    0.004564\n",
       "58  Are you filling this form on behalf of your pa...    0.003535\n",
       "\n",
       "[61 rows x 2 columns]"
      ]
     },
     "execution_count": 206,
     "metadata": {},
     "output_type": "execute_result"
    }
   ],
   "source": [
    "feat_imp = pd.DataFrame({'feature': predictors_2, 'importance': model2.feature_importances_}).sort_values('importance', ascending=False)\n",
    "feat_imp"
   ]
  },
  {
   "cell_type": "code",
   "execution_count": 208,
   "metadata": {},
   "outputs": [
    {
     "data": {
      "text/plain": [
       "(14, 2)"
      ]
     },
     "execution_count": 208,
     "metadata": {},
     "output_type": "execute_result"
    }
   ],
   "source": [
    "feat_imp[feat_imp['importance'] > 0.02].shape"
   ]
  },
  {
   "cell_type": "code",
   "execution_count": 214,
   "metadata": {},
   "outputs": [],
   "source": [
    "predictors_3 = feat_imp[feat_imp['importance'] > 0.02].feature.tolist()"
   ]
  },
  {
   "cell_type": "code",
   "execution_count": 227,
   "metadata": {},
   "outputs": [],
   "source": [
    "model3 = XGBClassifier(\n",
    "    learning_rate=0.02,\n",
    "    subsample=0.6,\n",
    "    colsample_bytree=0.8,\n",
    "    max_depth=5,\n",
    "    min_child_weight=3,\n",
    "    eval_metric='auc',\n",
    "    objective= 'binary:logistic',\n",
    ")"
   ]
  },
  {
   "cell_type": "code",
   "execution_count": 228,
   "metadata": {},
   "outputs": [
    {
     "data": {
      "text/plain": [
       "47.23440545808967"
      ]
     },
     "execution_count": 228,
     "metadata": {},
     "output_type": "execute_result"
    }
   ],
   "source": [
    "model3.fit(x_train, y_train)\n",
    "y_testpred3 = model3.predict_proba(x_test)[:, 1]\n",
    "\n",
    "gini(y_testpred3, y_test)"
   ]
  },
  {
   "cell_type": "code",
   "execution_count": 234,
   "metadata": {},
   "outputs": [
    {
     "data": {
      "text/plain": [
       "86.09093779602148"
      ]
     },
     "execution_count": 234,
     "metadata": {},
     "output_type": "execute_result"
    }
   ],
   "source": [
    "y_trainpred3 = model3.predict_proba(x_train)[:, 1]\n",
    "gini(y_trainpred3, y_train)"
   ]
  },
  {
   "cell_type": "code",
   "execution_count": null,
   "metadata": {},
   "outputs": [],
   "source": []
  },
  {
   "cell_type": "code",
   "execution_count": null,
   "metadata": {},
   "outputs": [],
   "source": []
  },
  {
   "cell_type": "markdown",
   "metadata": {},
   "source": [
    "#### Applying Random Forest Classifier"
   ]
  },
  {
   "cell_type": "code",
   "execution_count": 209,
   "metadata": {},
   "outputs": [
    {
     "name": "stdout",
     "output_type": "stream",
     "text": [
      "Cross Validation Mean Result:  0.94284026297086\n",
      "Test Score:  0.95\n"
     ]
    }
   ],
   "source": [
    "clf = RandomForestClassifier(random_state=1, n_estimators=250, criterion='gini', n_jobs=-1)\n",
    "clf.fit(x_train, y_train)\n",
    "\n",
    "cross_val = cross_val_score(clf, x_train, y_train, cv=10, n_jobs=-1)\n",
    "print ('Cross Validation Mean Result: ',cross_val.mean())\n",
    "\n",
    "# Predicted Results\n",
    "y_pred = clf.predict(x_test)\n",
    "\n",
    "print(\"Test Score: \", clf.score(x_test,y_test))"
   ]
  },
  {
   "cell_type": "code",
   "execution_count": 230,
   "metadata": {},
   "outputs": [
    {
     "data": {
      "text/plain": [
       "100.0"
      ]
     },
     "execution_count": 230,
     "metadata": {},
     "output_type": "execute_result"
    }
   ],
   "source": [
    "y_predforest_train = clf.predict_proba(x_train)[:,1]\n",
    "gini(y_predforest_train, y_train)"
   ]
  },
  {
   "cell_type": "code",
   "execution_count": 212,
   "metadata": {},
   "outputs": [],
   "source": [
    "y_predforest = clf.predict_proba(x_test)[:,1]"
   ]
  },
  {
   "cell_type": "code",
   "execution_count": 213,
   "metadata": {},
   "outputs": [
    {
     "data": {
      "text/plain": [
       "46.538945743989615"
      ]
     },
     "execution_count": 213,
     "metadata": {},
     "output_type": "execute_result"
    }
   ],
   "source": [
    "gini(y_predforest, y_test)"
   ]
  },
  {
   "cell_type": "code",
   "execution_count": null,
   "metadata": {},
   "outputs": [],
   "source": [
    "# Evaluation of the result using Confusion Matrix\n",
    "confusion_matrix(y_test,y_pred)"
   ]
  },
  {
   "cell_type": "code",
   "execution_count": null,
   "metadata": {},
   "outputs": [],
   "source": [
    "# Analyzing the Classification Report\n",
    "print(classification_report(y_test,y_pred))"
   ]
  },
  {
   "cell_type": "markdown",
   "metadata": {},
   "source": [
    "## DATA VISUALIZATION"
   ]
  },
  {
   "cell_type": "markdown",
   "metadata": {},
   "source": [
    "#### Extracting Important Feature and Analyzing them"
   ]
  },
  {
   "cell_type": "code",
   "execution_count": null,
   "metadata": {},
   "outputs": [],
   "source": [
    "list_of_features=[]\n",
    "count=0\n",
    "imp=tuple(imp_features['Features'])\n",
    "for i in imp:\n",
    "    if count==10:\n",
    "        break\n",
    "    else:\n",
    "        list_of_features.append(i)\n",
    "        count+=1"
   ]
  },
  {
   "cell_type": "code",
   "execution_count": null,
   "metadata": {},
   "outputs": [],
   "source": [
    "age_tuple=tuple(data['Age '])\n",
    "marital_tuple=tuple(data['Marital Status'])\n",
    "gender_tuple=tuple(data['Gender'])\n",
    "salary_tuple=tuple(data[\"What is the range of your family's average monthly earnings?\"])\n",
    "google_tuple=tuple(data['Rate the following websites in terms of your usage time [Google]'])\n",
    "facebook_tuple=tuple(data['Rate the following websites in terms of your usage time [Facebook]'])\n",
    "whatsapp_tuple=tuple(data['Rate the following websites in terms of your usage time [Whatsapp]'])\n",
    "youtube_tuple=tuple(data['Rate the following websites in terms of your usage time [Youtube]'])\n",
    "\n",
    "#-----x------\n",
    "\n",
    "ac_tuple=tuple(data['What are your appliances brands?  [AC]'])\n",
    "roof_tuple=tuple(data['What percentage of your roof are you ready to give for solar?'])\n",
    "refrigerator_tuple=tuple(data['What are your appliances brands?  [Refrigerator]'])\n",
    "vehicle4_tuple=tuple(data['How many of the below vehicles do you own? [4-Wheelers]'])\n",
    "vehicle2_tuple=tuple(data['How many of the below vehicles do you own? [2-Wheelers]'])\n",
    "floors_tuple=tuple(data['Number of Floors in House'])\n",
    "rooms_tuple=tuple(data['No of Rooms in your house '])"
   ]
  },
  {
   "cell_type": "code",
   "execution_count": null,
   "metadata": {},
   "outputs": [],
   "source": [
    "age_n={}\n",
    "age_y={}\n",
    "\n",
    "marital_n={}\n",
    "marital_y={}\n",
    "\n",
    "gender_n={}\n",
    "gender_y={}\n",
    "\n",
    "salary_n={}\n",
    "salary_y={}\n",
    "\n",
    "google_n={}\n",
    "google_y={}\n",
    "\n",
    "facebook_n={}\n",
    "facebook_y={}\n",
    "\n",
    "whatsapp_n={}\n",
    "whatsapp_y={}\n",
    "\n",
    "youtube_n={}\n",
    "youtube_y={}\n",
    "\n",
    "ac_n={}\n",
    "ac_y={}\n",
    "\n",
    "roof_n={}\n",
    "roof_y={}\n",
    "\n",
    "refrigerator_n={}\n",
    "refrigerator_y={}\n",
    "\n",
    "vehicle4_n={}\n",
    "vehicle4_y={}\n",
    "\n",
    "vehicle2_n={}\n",
    "vehicle2_y={}\n",
    "\n",
    "floors_n={}\n",
    "floors_y={}\n",
    "\n",
    "rooms_n={}\n",
    "rooms_y={}\n",
    "\n",
    "#solar_y_n=tuple(data['Solar Panel Purchased or Not'])"
   ]
  },
  {
   "cell_type": "markdown",
   "metadata": {},
   "source": [
    "#### ANALYZING EACH FACTOR AND ASSESSING THE OUTPUTS CONCERNING WHETHER THE CUSTOMER PURCHASES THE SOLAR PANEL OR NOT"
   ]
  },
  {
   "cell_type": "markdown",
   "metadata": {},
   "source": [
    "AGE"
   ]
  },
  {
   "cell_type": "code",
   "execution_count": null,
   "metadata": {},
   "outputs": [],
   "source": [
    "for i,j in zip(age_tuple,solar_y_n):\n",
    "    if j=='No':\n",
    "        if i in age_n:\n",
    "            age_n[i]+=1\n",
    "        else:\n",
    "            age_n[i]=1\n",
    "            \n",
    "    elif j=='Yes':\n",
    "        if i in age_y:\n",
    "            age_y[i]+=1\n",
    "        else:\n",
    "            age_y[i]=1\n",
    "            \n",
    "age_y,age_n"
   ]
  },
  {
   "cell_type": "code",
   "execution_count": null,
   "metadata": {},
   "outputs": [],
   "source": [
    "x1=np.arange(0,4,1)"
   ]
  },
  {
   "cell_type": "code",
   "execution_count": null,
   "metadata": {},
   "outputs": [],
   "source": [
    "plt.bar(x1,age_y.values(),width=0.3,label=\"Number of YES\", color=\"lightblue\")\n",
    "plt.bar(x1+0.3,age_n.values(),width=0.3,label=\"Number of NO\", color=\"pink\")\n",
    "plt.xticks(x1,age_n.keys())\n",
    "plt.xlabel(\"Age Groups\")\n",
    "plt.ylabel(\"Number of Customers\")\n",
    "plt.title(\"Age Groups v/s No. of Customers\")\n",
    "plt.ylim(0,3000)\n",
    "plt.legend()\n",
    "plt.show()"
   ]
  },
  {
   "cell_type": "markdown",
   "metadata": {},
   "source": [
    "MARITAL STATUS"
   ]
  },
  {
   "cell_type": "code",
   "execution_count": null,
   "metadata": {},
   "outputs": [],
   "source": [
    "for i,j in zip(marital_tuple,solar_y_n):\n",
    "    if j=='No':\n",
    "        if i in marital_n:\n",
    "            marital_n[i]+=1\n",
    "        else:\n",
    "            marital_n[i]=1\n",
    "            \n",
    "    elif j=='Yes':\n",
    "        if i in marital_y:\n",
    "            marital_y[i]+=1\n",
    "        else:\n",
    "            marital_y[i]=1\n",
    "            \n",
    "marital_y,marital_n"
   ]
  },
  {
   "cell_type": "code",
   "execution_count": null,
   "metadata": {},
   "outputs": [],
   "source": [
    "x2=np.arange(0,3,1)"
   ]
  },
  {
   "cell_type": "code",
   "execution_count": null,
   "metadata": {},
   "outputs": [],
   "source": [
    "plt.bar(x2,marital_y.values(),width=0.3,label=\"Number of YES\", color=\"lightblue\")\n",
    "plt.bar(x2+0.3,marital_n.values(),width=0.3,label=\"Number of NO\", color=\"pink\")\n",
    "plt.xticks(x2,marital_n.keys())\n",
    "plt.xlabel(\"Marital Status\")\n",
    "plt.ylabel(\"Number of Customers\")\n",
    "plt.title(\"Marital Status v/s No. of Customers\")\n",
    "plt.legend()\n",
    "plt.show()"
   ]
  },
  {
   "cell_type": "markdown",
   "metadata": {},
   "source": [
    "GENDER"
   ]
  },
  {
   "cell_type": "code",
   "execution_count": null,
   "metadata": {},
   "outputs": [],
   "source": [
    "for i,j in zip(gender_tuple,solar_y_n):\n",
    "    if j=='No':\n",
    "        if i in gender_n:\n",
    "            gender_n[i]+=1\n",
    "        else:\n",
    "            gender_n[i]=1\n",
    "            \n",
    "    elif j=='Yes':\n",
    "        if i in gender_y:\n",
    "            gender_y[i]+=1\n",
    "        else:\n",
    "            gender_y[i]=1\n",
    "            \n",
    "sorted(gender_y.values())\n",
    "            \n",
    "gender_y,gender_n"
   ]
  },
  {
   "cell_type": "code",
   "execution_count": null,
   "metadata": {},
   "outputs": [],
   "source": [
    "gender_y={'Female': 86,'Male': 173}"
   ]
  },
  {
   "cell_type": "code",
   "execution_count": null,
   "metadata": {},
   "outputs": [],
   "source": [
    "x3=np.arange(0,2,1)\n",
    "\n",
    "plt.bar(x3,gender_y.values(),width=0.3,label=\"Number of YES\", color=\"lightblue\")\n",
    "plt.bar(x3+0.3,gender_n.values(),width=0.3,label=\"Number of NO\", color=\"pink\")\n",
    "plt.xticks(x3,gender_n.keys())\n",
    "plt.xlabel(\"Gender\")\n",
    "plt.ylabel(\"Number of Customers\")\n",
    "plt.title(\"Gender v/s No. of Customers\")\n",
    "plt.legend()\n",
    "plt.show()"
   ]
  },
  {
   "cell_type": "markdown",
   "metadata": {},
   "source": [
    "SALARY"
   ]
  },
  {
   "cell_type": "code",
   "execution_count": null,
   "metadata": {},
   "outputs": [],
   "source": [
    "for i,j in zip(salary_tuple,solar_y_n):\n",
    "    if j=='No':\n",
    "        if i in salary_n:\n",
    "            salary_n[i]+=1\n",
    "        else:\n",
    "            salary_n[i]=1\n",
    "            \n",
    "    elif j=='Yes':\n",
    "        if i in salary_y:\n",
    "            salary_y[i]+=1\n",
    "        else:\n",
    "            salary_y[i]=1\n",
    "            \n",
    "salary_y,salary_n"
   ]
  },
  {
   "cell_type": "code",
   "execution_count": null,
   "metadata": {},
   "outputs": [],
   "source": [
    "c={}\n",
    "for key in salary_y.keys():\n",
    "    val=salary_n[key]\n",
    "    c[key]=val"
   ]
  },
  {
   "cell_type": "code",
   "execution_count": null,
   "metadata": {},
   "outputs": [],
   "source": [
    "x4=np.arange(0,4,1)\n",
    "\n",
    "plt.bar(x4,salary_y.values(),width=0.3,label=\"Number of YES\", color=\"lightblue\")\n",
    "plt.bar(x4+0.3,c.values(),width=0.3,label=\"Number of NO\", color=\"pink\")\n",
    "plt.xticks(x4,c.keys())\n",
    "plt.xlabel(\"Salary Range\")\n",
    "plt.ylabel(\"Number of Customers\")\n",
    "plt.title(\"Salary Range v/s No. of Customers\")\n",
    "plt.legend()\n",
    "plt.show()"
   ]
  },
  {
   "cell_type": "markdown",
   "metadata": {},
   "source": [
    "GOOGLE USAGE TIME RATINGS"
   ]
  },
  {
   "cell_type": "code",
   "execution_count": null,
   "metadata": {},
   "outputs": [],
   "source": [
    "for i,j in zip(google_tuple,solar_y_n):\n",
    "    if j=='No':\n",
    "        if i in google_n:\n",
    "            google_n[i]+=1\n",
    "        else:\n",
    "            google_n[i]=1\n",
    "            \n",
    "    elif j=='Yes':\n",
    "        if i in google_y:\n",
    "            google_y[i]+=1\n",
    "        else:\n",
    "            google_y[i]=1\n",
    "            \n",
    "google_y,google_n"
   ]
  },
  {
   "cell_type": "code",
   "execution_count": null,
   "metadata": {},
   "outputs": [],
   "source": [
    "google_y={1: 74, 2: 35,3: 63, 4: 38, 5: 49}"
   ]
  },
  {
   "cell_type": "code",
   "execution_count": null,
   "metadata": {},
   "outputs": [],
   "source": [
    "c={}\n",
    "for key in google_y.keys():\n",
    "    val=google_n[key]\n",
    "    c[key]=val"
   ]
  },
  {
   "cell_type": "code",
   "execution_count": null,
   "metadata": {},
   "outputs": [],
   "source": [
    "x5=np.arange(0,5,1)\n",
    "\n",
    "plt.bar(x5,google_y.values(),width=0.3,label=\"Number of YES\", color=\"lightblue\")\n",
    "plt.bar(x5+0.3,c.values(),width=0.3,label=\"Number of NO\", color=\"pink\")\n",
    "plt.xticks(x5,c.keys())\n",
    "plt.xlabel(\"Ratings\")\n",
    "plt.ylabel(\"Number of Customers\")\n",
    "plt.title(\"Google Usage Time Ratings v/s No. of Customers\")\n",
    "\n",
    "plt.legend()\n",
    "plt.show()"
   ]
  },
  {
   "cell_type": "markdown",
   "metadata": {},
   "source": [
    "FACEBOOK USAGE TIME RATING"
   ]
  },
  {
   "cell_type": "code",
   "execution_count": null,
   "metadata": {},
   "outputs": [],
   "source": [
    "for i,j in zip(facebook_tuple,solar_y_n):\n",
    "    if j=='No':\n",
    "        if i in facebook_n:\n",
    "            facebook_n[i]+=1\n",
    "        else:\n",
    "            facebook_n[i]=1\n",
    "            \n",
    "    elif j=='Yes':\n",
    "        if i in facebook_y:\n",
    "            facebook_y[i]+=1\n",
    "        else:\n",
    "            facebook_y[i]=1\n",
    "            \n",
    "facebook_y,facebook_n"
   ]
  },
  {
   "cell_type": "code",
   "execution_count": null,
   "metadata": {},
   "outputs": [],
   "source": [
    "facebook_y={1: 85, 2: 64,3: 54, 4: 43, 5: 13}"
   ]
  },
  {
   "cell_type": "code",
   "execution_count": null,
   "metadata": {},
   "outputs": [],
   "source": [
    "ac={}\n",
    "for key in facebook_y.keys():\n",
    "    val=facebook_n[key]\n",
    "    ac[key]=val"
   ]
  },
  {
   "cell_type": "code",
   "execution_count": null,
   "metadata": {},
   "outputs": [],
   "source": [
    "x5=np.arange(0,5,1)\n",
    "\n",
    "plt.bar(x5,facebook_y.values(),width=0.3,label=\"Number of YES\", color=\"lightblue\")\n",
    "plt.bar(x5+0.3,ac.values(),width=0.3,label=\"Number of NO\", color=\"pink\")\n",
    "plt.xticks(x5,ac.keys())\n",
    "plt.xlabel(\"Ratings\")\n",
    "plt.ylabel(\"Number of Customers\")\n",
    "plt.title(\"Facebook Usage Time Ratings v/s No. of Customers\")\n",
    "plt.legend()\n",
    "plt.show()"
   ]
  },
  {
   "cell_type": "markdown",
   "metadata": {},
   "source": [
    "WHATSAPP USAGE TIME RATINGS"
   ]
  },
  {
   "cell_type": "code",
   "execution_count": null,
   "metadata": {},
   "outputs": [],
   "source": [
    "for i,j in zip(whatsapp_tuple,solar_y_n):\n",
    "    if j=='No':\n",
    "        if i in whatsapp_n:\n",
    "            whatsapp_n[i]+=1\n",
    "        else:\n",
    "            whatsapp_n[i]=1\n",
    "            \n",
    "    elif j=='Yes':\n",
    "        if i in whatsapp_y:\n",
    "            whatsapp_y[i]+=1\n",
    "        else:\n",
    "            whatsapp_y[i]=1\n",
    "            \n",
    "whatsapp_y,whatsapp_n"
   ]
  },
  {
   "cell_type": "code",
   "execution_count": null,
   "metadata": {},
   "outputs": [],
   "source": [
    "whatsapp_y={1: 65,2: 48, 3: 66, 4: 47, 5: 33}\n",
    "whatsapp_n={1: 928, 2: 718,3: 1188, 4: 941, 5: 741}"
   ]
  },
  {
   "cell_type": "code",
   "execution_count": null,
   "metadata": {},
   "outputs": [],
   "source": [
    "x5=np.arange(0,5,1)\n",
    "\n",
    "plt.bar(x5,whatsapp_y.values(),width=0.3,label=\"Number of YES\", color=\"lightblue\")\n",
    "plt.bar(x5+0.3,whatsapp_n.values(),width=0.3,label=\"Number of NO\", color=\"pink\")\n",
    "plt.xticks(x5,whatsapp_n.keys())\n",
    "plt.xlabel(\"Ratings\")\n",
    "plt.ylabel(\"Number of Customers\")\n",
    "plt.title(\"Whatsapp Usage Time Ratings v/s No. of Customers\")\n",
    "plt.legend()\n",
    "plt.show()"
   ]
  },
  {
   "cell_type": "markdown",
   "metadata": {},
   "source": [
    "YOUTUBE USAGE TIME RATING"
   ]
  },
  {
   "cell_type": "code",
   "execution_count": null,
   "metadata": {},
   "outputs": [],
   "source": [
    "for i,j in zip(youtube_tuple,solar_y_n):\n",
    "    if j=='No':\n",
    "        if i in youtube_n:\n",
    "            youtube_n[i]+=1\n",
    "        else:\n",
    "            youtube_n[i]=1\n",
    "            \n",
    "    elif j=='Yes':\n",
    "        if i in youtube_y:\n",
    "            youtube_y[i]+=1\n",
    "        else:\n",
    "            youtube_y[i]=1\n",
    "            \n",
    "youtube_y,youtube_n"
   ]
  },
  {
   "cell_type": "code",
   "execution_count": null,
   "metadata": {},
   "outputs": [],
   "source": [
    "youtube_y={1: 58, 2: 44, 3: 72, 4: 60, 5: 25}\n",
    "youtube_n={1: 724,2: 914, 3: 1286, 4: 1071, 5: 521}"
   ]
  },
  {
   "cell_type": "code",
   "execution_count": null,
   "metadata": {},
   "outputs": [],
   "source": [
    "x5=np.arange(0,5,1)\n",
    "\n",
    "plt.bar(x5,youtube_y.values(),width=0.3,label=\"Number of YES\", color=\"lightblue\")\n",
    "plt.bar(x5+0.3,youtube_n.values(),width=0.3,label=\"Number of NO\", color=\"pink\")\n",
    "plt.xticks(x5,youtube_n.keys())\n",
    "plt.xlabel(\"Ratings\")\n",
    "plt.ylabel(\"Number of Customers\")\n",
    "plt.title(\"Youtube Usage Time Ratings v/s No. of Customers\")\n",
    "plt.legend()\n",
    "plt.show()"
   ]
  },
  {
   "cell_type": "markdown",
   "metadata": {},
   "source": [
    "BRAND OF AIR CONDITIONER USED BY THE CUSTOMERS"
   ]
  },
  {
   "cell_type": "code",
   "execution_count": null,
   "metadata": {},
   "outputs": [],
   "source": [
    "for i,j in zip(ac_tuple,solar_y_n):\n",
    "    if j=='No':\n",
    "        if i in ac_n:\n",
    "            ac_n[i]+=1\n",
    "        else:\n",
    "            ac_n[i]=1\n",
    "            \n",
    "    elif j=='Yes':\n",
    "        if i in ac_y:\n",
    "            ac_y[i]+=1\n",
    "        else:\n",
    "            ac_y[i]=1\n",
    "            \n",
    "ac_y,ac_n"
   ]
  },
  {
   "cell_type": "code",
   "execution_count": null,
   "metadata": {},
   "outputs": [],
   "source": [
    "aca={}\n",
    "for key in ac_y.keys():\n",
    "    val=ac_n[key]\n",
    "    aca[key]=val"
   ]
  },
  {
   "cell_type": "code",
   "execution_count": null,
   "metadata": {},
   "outputs": [],
   "source": [
    "x6=np.arange(0,12,1)\n",
    "\n",
    "plt.bar(x6,ac_y.values(),width=0.3,label=\"Number of YES\", color=\"lightblue\")\n",
    "plt.bar(x6+0.3,aca.values(),width=0.3,label=\"Number of NO\", color=\"pink\")\n",
    "plt.xticks(x6,aca.keys())\n",
    "plt.xlabel(\"AC Brands\")\n",
    "plt.ylabel(\"Number of Customers\")\n",
    "plt.title(\"AC Brands Customer Owns v/s No. of Customers\")\n",
    "plt.xticks(rotation=40)\n",
    "\n",
    "plt.legend()\n",
    "plt.show()"
   ]
  },
  {
   "cell_type": "markdown",
   "metadata": {},
   "source": [
    "ROOF SIZE OF THE HOUSE"
   ]
  },
  {
   "cell_type": "code",
   "execution_count": null,
   "metadata": {},
   "outputs": [],
   "source": [
    "for i,j in zip(roof_tuple,solar_y_n):\n",
    "    if j=='No':\n",
    "        if i in roof_n:\n",
    "            roof_n[i]+=1\n",
    "        else:\n",
    "            roof_n[i]=1\n",
    "            \n",
    "    elif j=='Yes':\n",
    "        if i in roof_y:\n",
    "            roof_y[i]+=1\n",
    "        else:\n",
    "            roof_y[i]=1\n",
    "            \n",
    "roof_y,roof_n"
   ]
  },
  {
   "cell_type": "code",
   "execution_count": null,
   "metadata": {},
   "outputs": [],
   "source": [
    "x7=np.arange(0,4,1)\n",
    "\n",
    "plt.bar(x7,roof_y.values(),width=0.3,label=\"Number of YES\", color=\"lightblue\")\n",
    "plt.bar(x7+0.3,roof_n.values(),width=0.3,label=\"Number of NO\", color=\"pink\")\n",
    "plt.xticks(x7,roof_n.keys())\n",
    "plt.xlabel(\"Percentage of Roof Area to be given to Solar Panels\")\n",
    "plt.ylabel(\"Number of Customers\")\n",
    "plt.title(\"Percentage of Roof Area to be given to Solar Panels v/s No. of Customers\")\n",
    "plt.legend()\n",
    "plt.show()"
   ]
  },
  {
   "cell_type": "markdown",
   "metadata": {},
   "source": [
    "REFRIGERATOR BRAND USED BY THE CUSTOMERS"
   ]
  },
  {
   "cell_type": "code",
   "execution_count": null,
   "metadata": {},
   "outputs": [],
   "source": [
    "for i,j in zip(refrigerator_tuple,solar_y_n):\n",
    "    if j=='No':\n",
    "        if i in refrigerator_n:\n",
    "            refrigerator_n[i]+=1\n",
    "        else:\n",
    "            refrigerator_n[i]=1\n",
    "            \n",
    "    elif j=='Yes':\n",
    "        if i in refrigerator_y:\n",
    "            refrigerator_y[i]+=1\n",
    "        else:\n",
    "            refrigerator_y[i]=1\n",
    "            \n",
    "refrigerator_y,refrigerator_n"
   ]
  },
  {
   "cell_type": "code",
   "execution_count": null,
   "metadata": {},
   "outputs": [],
   "source": [
    "acb={}\n",
    "for key in refrigerator_y.keys():\n",
    "    val=refrigerator_n[key]\n",
    "    acb[key]=val"
   ]
  },
  {
   "cell_type": "code",
   "execution_count": null,
   "metadata": {},
   "outputs": [],
   "source": [
    "x8=np.arange(0,12,1)\n",
    "\n",
    "plt.bar(x8,refrigerator_y.values(),width=0.3,label=\"Number of YES\", color=\"lightblue\")\n",
    "plt.bar(x8+0.3,acb.values(),width=0.3,label=\"Number of NO\", color=\"pink\")\n",
    "plt.xticks(x8,acb.keys())\n",
    "plt.xlabel(\"Refrigerator Brand\")\n",
    "plt.ylabel(\"Number of Customers\")\n",
    "plt.title(\"Refrigerator Brand owned by Customer v/s No. of Customers\")\n",
    "plt.xticks(rotation=40)\n",
    "\n",
    "plt.legend()\n",
    "plt.show()"
   ]
  },
  {
   "cell_type": "markdown",
   "metadata": {},
   "source": [
    "NUMBER OF FOUR-WHEELER VEHICLE OWNED BY THE CUSTOMERS"
   ]
  },
  {
   "cell_type": "code",
   "execution_count": null,
   "metadata": {},
   "outputs": [],
   "source": [
    "for i,j in zip(vehicle4_tuple,solar_y_n):\n",
    "    if j=='No':\n",
    "        if i in vehicle4_n:\n",
    "            vehicle4_n[i]+=1\n",
    "        else:\n",
    "            vehicle4_n[i]=1\n",
    "            \n",
    "    elif j=='Yes':\n",
    "        if i in vehicle4_y:\n",
    "            vehicle4_y[i]+=1\n",
    "        else:\n",
    "            vehicle4_y[i]=1\n",
    "            \n",
    "vehicle4_y,vehicle4_n"
   ]
  },
  {
   "cell_type": "code",
   "execution_count": null,
   "metadata": {},
   "outputs": [],
   "source": [
    "x8=np.arange(0,5,1)\n",
    "\n",
    "plt.bar(x8,vehicle4_y.values(),width=0.3,label=\"Number of YES\", color=\"lightblue\")\n",
    "plt.bar(x8+0.3,vehicle4_n.values(),width=0.3,label=\"Number of NO\", color=\"pink\")\n",
    "plt.xticks(x8,vehicle4_n.keys())\n",
    "plt.xlabel(\"Number of 4-Wheeler Vehicles owned by Customer\")\n",
    "plt.ylabel(\"Number of Customers\")\n",
    "plt.title(\"Number of 4-Wheeler Vehicles owned by Customer v/s No. of Customers\")\n",
    "\n",
    "\n",
    "plt.legend()\n",
    "plt.show()"
   ]
  },
  {
   "cell_type": "markdown",
   "metadata": {},
   "source": [
    "NUMBER OF TWO-WHEELER VEHICLE OWNED BY THE CUSTOMERS"
   ]
  },
  {
   "cell_type": "code",
   "execution_count": null,
   "metadata": {},
   "outputs": [],
   "source": [
    "for i,j in zip(vehicle2_tuple,solar_y_n):\n",
    "    if j=='No':\n",
    "        if i in vehicle2_n:\n",
    "            vehicle2_n[i]+=1\n",
    "        else:\n",
    "            vehicle2_n[i]=1\n",
    "            \n",
    "    elif j=='Yes':\n",
    "        if i in vehicle2_y:\n",
    "            vehicle2_y[i]+=1\n",
    "        else:\n",
    "            vehicle2_y[i]=1\n",
    "            \n",
    "vehicle2_y,vehicle2_n"
   ]
  },
  {
   "cell_type": "code",
   "execution_count": null,
   "metadata": {},
   "outputs": [],
   "source": [
    "x8=np.arange(0,5,1)\n",
    "\n",
    "plt.bar(x8,vehicle2_y.values(),width=0.3,label=\"Number of YES\", color=\"lightblue\")\n",
    "plt.bar(x8+0.3,vehicle2_n.values(),width=0.3,label=\"Number of NO\", color=\"pink\")\n",
    "plt.xticks(x8,vehicle2_n.keys())\n",
    "plt.xlabel(\"Number of 2-Wheeler Vehicles owned by Customer\")\n",
    "plt.ylabel(\"Number of Customers\")\n",
    "plt.title(\"Number of 2-Wheeler Vehicles owned by Customer v/s No. of Customers\")\n",
    "\n",
    "\n",
    "plt.legend()\n",
    "plt.show()"
   ]
  },
  {
   "cell_type": "markdown",
   "metadata": {},
   "source": [
    "NUMBER OF FLOORS IN A HOUSE OWNED BY THE CUSTOMERS"
   ]
  },
  {
   "cell_type": "code",
   "execution_count": null,
   "metadata": {},
   "outputs": [],
   "source": [
    "for i,j in zip(floors_tuple,solar_y_n):\n",
    "    if j=='No':\n",
    "        if i in floors_n:\n",
    "            floors_n[i]+=1\n",
    "        else:\n",
    "            floors_n[i]=1\n",
    "            \n",
    "    elif j=='Yes':\n",
    "        if i in floors_y:\n",
    "            floors_y[i]+=1\n",
    "        else:\n",
    "            floors_y[i]=1\n",
    "            \n",
    "floors_y,floors_n"
   ]
  },
  {
   "cell_type": "code",
   "execution_count": null,
   "metadata": {},
   "outputs": [],
   "source": [
    "floors_y={   'Ground Floor': 51, '1 Floor': 25,  '2 Floors': 27,'3 Floors': 21,   '4+': 11,  'G+1 Floor': 37,  'G+2 Floors': 39,  'G+3 Floors': 19,  'G+ 4+ floors': 29,}"
   ]
  },
  {
   "cell_type": "code",
   "execution_count": null,
   "metadata": {},
   "outputs": [],
   "source": [
    "acc={}\n",
    "for key in floors_y.keys():\n",
    "    val=floors_n[key]\n",
    "    acc[key]=val"
   ]
  },
  {
   "cell_type": "code",
   "execution_count": null,
   "metadata": {},
   "outputs": [],
   "source": [
    "x9=np.arange(0,9,1)\n",
    "\n",
    "plt.bar(x9,floors_y.values(),width=0.3,label=\"Number of YES\", color=\"lightblue\")\n",
    "plt.bar(x9+0.3,acc.values(),width=0.3,label=\"Number of NO\", color=\"pink\")\n",
    "plt.xticks(x9,acc.keys())\n",
    "plt.xlabel(\"Number of floors\")\n",
    "plt.ylabel(\"Number of Customers\")\n",
    "plt.title(\"Number of floors owned by Customer v/s No. of Customers\")\n",
    "\n",
    "plt.xticks(rotation=40)\n",
    "plt.legend()\n",
    "plt.show()"
   ]
  },
  {
   "cell_type": "markdown",
   "metadata": {},
   "source": [
    "NUMBER OF ROOMS OWNED BY THE CUSTOMERS"
   ]
  },
  {
   "cell_type": "code",
   "execution_count": null,
   "metadata": {},
   "outputs": [],
   "source": [
    "for i,j in zip(rooms_tuple,solar_y_n):\n",
    "    if j=='No':\n",
    "        if i in rooms_n:\n",
    "            rooms_n[i]+=1\n",
    "        else:\n",
    "            rooms_n[i]=1\n",
    "            \n",
    "    elif j=='Yes':\n",
    "        if i in rooms_y:\n",
    "            rooms_y[i]+=1\n",
    "        else:\n",
    "            rooms_y[i]=1\n",
    "            \n",
    "rooms_y,rooms_n"
   ]
  },
  {
   "cell_type": "code",
   "execution_count": null,
   "metadata": {},
   "outputs": [],
   "source": [
    "rooms_y={1: 15,2: 47, 3: 70,  4: 50, '5+': 77}"
   ]
  },
  {
   "cell_type": "code",
   "execution_count": null,
   "metadata": {},
   "outputs": [],
   "source": [
    "acd={}\n",
    "for key in rooms_y.keys():\n",
    "    val=rooms_n[key]\n",
    "    acd[key]=val"
   ]
  },
  {
   "cell_type": "code",
   "execution_count": null,
   "metadata": {},
   "outputs": [],
   "source": [
    "x10=np.arange(0,5,1)\n",
    "\n",
    "plt.bar(x10,rooms_y.values(),width=0.3,label=\"Number of YES\", color=\"lightblue\")\n",
    "plt.bar(x10+0.3,acd.values(),width=0.3,label=\"Number of NO\", color=\"pink\")\n",
    "plt.xticks(x10,acd.keys())\n",
    "plt.xlabel(\"Number of rooms\")\n",
    "plt.ylabel(\"Number of Customers\")\n",
    "plt.title(\"Number of rooms owned by Customer v/s No. of Customers\")\n",
    "plt.legend()\n",
    "plt.show()"
   ]
  },
  {
   "cell_type": "markdown",
   "metadata": {},
   "source": [
    "#### Importing the Map of India for visual depiction of the final result"
   ]
  },
  {
   "cell_type": "code",
   "execution_count": null,
   "metadata": {},
   "outputs": [],
   "source": [
    "india=gpd.read_file('C:/Users/Sukriti Macker/Peacock Solar Data Analytics Intern/IND_adm1.shp')\n",
    "india.plot()\n",
    "plt.axis(\"off\")"
   ]
  },
  {
   "cell_type": "code",
   "execution_count": null,
   "metadata": {},
   "outputs": [],
   "source": [
    "india2=gpd.read_file('C:/Users/Sukriti Macker/Peacock Solar Data Analytics Intern/IND_adm1.shp')\n",
    "india2.plot()\n",
    "plt.axis(\"off\")"
   ]
  },
  {
   "cell_type": "code",
   "execution_count": null,
   "metadata": {},
   "outputs": [],
   "source": [
    "# Renaming the column\n",
    "\n",
    "india.rename(columns={'NAME_1':'State Name'},inplace=True)  \n",
    "india2.rename(columns={'NAME_1':'State Name'},inplace=True)"
   ]
  },
  {
   "cell_type": "code",
   "execution_count": null,
   "metadata": {},
   "outputs": [],
   "source": [
    "## Creating two tuples\n",
    "'''\n",
    "The tuple \"states_tuple\" stores all the name of the states in India\n",
    "The tuple \"solar_y_n\" stores the binary value whether the customer would purchase the solar panel or not\n",
    "'''\n",
    "\n",
    "states_tuple = tuple(data['State Name'])\n",
    "solar_y_n = tuple(data['Solar Panel Purchased or Not'])"
   ]
  },
  {
   "cell_type": "code",
   "execution_count": null,
   "metadata": {},
   "outputs": [],
   "source": [
    "'''\n",
    "Separating the results of Customers:-\n",
    "'state_wise_yes' dictionary contains the values for the number of customers per state who purchased the solar panel\n",
    "'state_wise_no' dictionary contains the values for the number of customers per state who did not purchase the solar panel\n",
    "'''\n",
    "\n",
    "state_wise_yes={}\n",
    "state_wise_no={}\n",
    "\n",
    "for i,j in zip(states_tuple,solar_y_n):\n",
    "    if j=='Yes':\n",
    "        if i in state_wise_yes:\n",
    "            state_wise_yes[i]+=1\n",
    "        else:\n",
    "            state_wise_yes[i]=1\n",
    "            \n",
    "    elif j==\"No\":\n",
    "        if i in state_wise_no:\n",
    "            state_wise_no[i]+=1\n",
    "        else:\n",
    "            state_wise_no[i]=1        \n",
    "\n",
    "            \n",
    "## Printing the results            \n",
    "state_wise_yes, state_wise_no"
   ]
  },
  {
   "cell_type": "code",
   "execution_count": null,
   "metadata": {},
   "outputs": [],
   "source": [
    "## Removing the NONE value from both the above mentioned dictionaries\n",
    "\n",
    "state_wise_no.pop(None)\n",
    "state_wise_yes.pop(None)"
   ]
  },
  {
   "cell_type": "markdown",
   "metadata": {},
   "source": [
    "## Visualizing the results are per the states of India"
   ]
  },
  {
   "cell_type": "code",
   "execution_count": null,
   "metadata": {},
   "outputs": [],
   "source": [
    "'''\n",
    "Creating a list of keys and values for both dictionaries\n",
    "'''\n",
    "# List for keys and values for state_wise_no dictionary\n",
    "no_states_keys=list(state_wise_no.keys())\n",
    "no_states_values=list(state_wise_no.values())\n",
    "\n",
    "# List for keys and values for state_wise_yes dictionary\n",
    "yes_states_keys=list(state_wise_yes.keys())\n",
    "yes_states_values=list(state_wise_yes.values())"
   ]
  },
  {
   "cell_type": "code",
   "execution_count": null,
   "metadata": {},
   "outputs": [],
   "source": [
    "# Creating the dataframe for customers who said 'no' to the product\n",
    "\n",
    "no_dataframe=pd.DataFrame(data=[],columns=['State Name','Count No'])"
   ]
  },
  {
   "cell_type": "code",
   "execution_count": null,
   "metadata": {},
   "outputs": [],
   "source": [
    "## Filling in the values in the no_dataframe for customers who said 'no' to the product\n",
    "\n",
    "no_dataframe['State Name']=no_states_keys\n",
    "no_dataframe['Count No']=no_states_values"
   ]
  },
  {
   "cell_type": "code",
   "execution_count": null,
   "metadata": {},
   "outputs": [],
   "source": [
    "# Creating the dataframe for customers who said 'yes' to the product\n",
    "\n",
    "yes_dataframe=pd.DataFrame(data=[],columns=['State Name','Count yes'])"
   ]
  },
  {
   "cell_type": "code",
   "execution_count": null,
   "metadata": {},
   "outputs": [],
   "source": [
    "## Filling in the values in the yes_dataframe for customers who said 'yes' to the product\n",
    "\n",
    "yes_dataframe['State Name']=yes_states_keys\n",
    "yes_dataframe['Count Yes']=yes_states_values"
   ]
  },
  {
   "cell_type": "markdown",
   "metadata": {},
   "source": [
    "## Observing the results for the customers who purchased the product in various states"
   ]
  },
  {
   "cell_type": "code",
   "execution_count": null,
   "metadata": {},
   "outputs": [],
   "source": [
    "merge=india.merge(yes_dataframe,on='State Name',how='right') #yes"
   ]
  },
  {
   "cell_type": "code",
   "execution_count": null,
   "metadata": {
    "scrolled": false
   },
   "outputs": [],
   "source": [
    "merge.plot(column='Count Yes',cmap='Oranges',figsize=(10,10),legend=True,edgecolor='black',classification_kwds={'bins':[50,100,150,200,250,300,350,400]})\n",
    "plt.axis(\"off\")\n",
    "plt.title(\"STATES WHERE CUSTOMERS BOUGHT SOLAR PANELS\")"
   ]
  },
  {
   "cell_type": "code",
   "execution_count": null,
   "metadata": {},
   "outputs": [],
   "source": [
    "## Extracting the above results are per states\n",
    "\n",
    "mapy1={}\n",
    "for key in yes_states_keys:\n",
    "    val=state_wise_no[key]\n",
    "    mapy1[key]=val\n",
    "    \n",
    "mapy1"
   ]
  },
  {
   "cell_type": "code",
   "execution_count": null,
   "metadata": {},
   "outputs": [],
   "source": [
    "## Observing the graph to see the sale where the customers purchased the product\n",
    "\n",
    "x_=np.arange(0,17,1)\n",
    "\n",
    "plt.bar(x_,state_wise_yes.values(),width=0.5,label=\"Number of YES\", color=\"lightblue\")\n",
    "\n",
    "plt.xticks(x_,mapy1.keys())\n",
    "plt.xlabel(\"States\")\n",
    "plt.ylabel(\"Number of Customers who bought Solar\")\n",
    "plt.title(\"STATES V/S THE PURCHASE OF SOLAR PANELS\")\n",
    "plt.xticks(rotation=80)\n",
    "plt.legend()\n",
    "plt.show()"
   ]
  },
  {
   "cell_type": "markdown",
   "metadata": {},
   "source": [
    "## Observing the results for the customers who did not purchase the product in various states"
   ]
  },
  {
   "cell_type": "code",
   "execution_count": null,
   "metadata": {},
   "outputs": [],
   "source": [
    "merge2=india2.merge(no_dataframe,on='State Name',how='right') #no"
   ]
  },
  {
   "cell_type": "code",
   "execution_count": null,
   "metadata": {},
   "outputs": [],
   "source": [
    "merge2.plot(column='Count No',cmap='OrRd',figsize=(10,10),legend=True,edgecolor='black',classification_kwds={'bins':[50,100,150,200,250,300,350,400]})\n",
    "plt.axis(\"off\")\n",
    "plt.title(\"STATES WHERE CUSTOMERS DID NOT BUY SOLAR PANELS\")"
   ]
  },
  {
   "cell_type": "code",
   "execution_count": null,
   "metadata": {
    "scrolled": true
   },
   "outputs": [],
   "source": [
    "## Observing the graph to see the sale where the customers did not purchase the product\n",
    "\n",
    "x_=np.arange(0,17,1)\n",
    "\n",
    "plt.bar(x_,mapy1.values(),width=0.5,label=\"Number of NO\", color=\"pink\")\n",
    "plt.xticks(x_,mapy1.keys())\n",
    "plt.xlabel(\"States\")\n",
    "plt.ylabel(\"Number of Customers who did not buy Solar\")\n",
    "plt.title(\"STATES V/S THE PURCHASE OF SOLAR PANELS\")\n",
    "plt.xticks(rotation=80)\n",
    "plt.legend()\n",
    "plt.show()"
   ]
  }
 ],
 "metadata": {
  "kernelspec": {
   "display_name": "Python 3",
   "language": "python",
   "name": "python3"
  },
  "language_info": {
   "codemirror_mode": {
    "name": "ipython",
    "version": 3
   },
   "file_extension": ".py",
   "mimetype": "text/x-python",
   "name": "python",
   "nbconvert_exporter": "python",
   "pygments_lexer": "ipython3",
   "version": "3.9.13"
  }
 },
 "nbformat": 4,
 "nbformat_minor": 4
}
